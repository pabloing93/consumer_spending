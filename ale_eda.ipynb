{
  "cells": [
    {
      "cell_type": "markdown",
      "metadata": {
        "id": "-1hBTcO3DUcE"
      },
      "source": [
        "# **PROBLEMA DE NEGOCIO**\n",
        "\n",
        "\n",
        "---\n",
        "\n",
        "\n"
      ]
    },
    {
      "cell_type": "markdown",
      "metadata": {
        "id": "B0aJ2-45DWYT"
      },
      "source": [
        "La necesidad de prever y optimizar el gasto de sus usuarios ha llevado a una empresa de comercio electrónico a buscar soluciones innovadoras. Como científicos de datos, hemos sido convocados para desarrollar un modelo de machine learning que pueda predecir con precisión cuánto gastará un usuario al visitar dicho sitio web."
      ]
    },
    {
      "cell_type": "markdown",
      "metadata": {
        "id": "W-CbolMODc_t"
      },
      "source": [
        "### **Tus tareas principales serán:**\n",
        "\n",
        "**1. Preprocesamiento de Datos:** Importar correctamente y analizar y comprender el conjunto de datos proporcionado, realizar limpieza de datos, eliminar atributos que no aportan valor y manejar valores faltantes.\n",
        "\n",
        "**2. Exploración y Feature Engineering:** Realizar visualizaciones para entender las relaciones entre las variables y seleccionar las características relevantes, identificar variables llaves, codificación de variables categóricas y normalización/escalado de datos.\n",
        "\n",
        "**3. Construcción de Modelos:** Experimentar con algunos algoritmos de machine learning como Linear Regression, Decision Tree Regressor, Random Forest Regressor, entre otros.\n",
        "\n",
        "**4. Evaluación y Selección del Modelo:** Evaluar los modelos utilizando métricas como el error cuadrático medio (MSE), la raíz cuadrada del error cuadrático medio (RMSE) y el coeficiente de determinación (R²). Seleccionar el modelo con el mejor rendimiento para la predicción del gasto de los usuarios."
      ]
    },
    {
      "cell_type": "markdown",
      "metadata": {
        "id": "OYicz3XQPBWp"
      },
      "source": [
        "## **1. Configuración del Ambiente**\n",
        "\n",
        "\n",
        "---\n",
        "\n",
        "\n"
      ]
    },
    {
      "cell_type": "code",
      "execution_count": 1,
      "metadata": {
        "colab": {
          "base_uri": "https://localhost:8080/"
        },
        "id": "OZd-jJGUPHMD",
        "outputId": "5216a413-8224-48b8-fdde-3a2a966b79d4"
      },
      "outputs": [],
      "source": [
        "import pandas as pd\n",
        "import numpy as np\n",
        "import json\n",
        "import matplotlib.pyplot as plt\n",
        "import seaborn as sns\n",
        "\n",
        "from sklearn.metrics import r2_score, mean_squared_error, accuracy_score, confusion_matrix\n",
        "from sklearn.preprocessing import LabelEncoder\n",
        "from sklearn.model_selection import train_test_split\n",
        "\n",
        "import xgboost as xgb\n",
        "import lightgbm as lgb\n",
        "# Si se usa colab hay que instalar catboost\n",
        "try:\n",
        "    import catboost as cat\n",
        "except Exception:\n",
        "    !pip install catboost\n",
        "finally:\n",
        "    import catboost as cat\n",
        "\n",
        "from datetime import date\n",
        "from joblib import dump, load\n",
        "\n",
        "import warnings; warnings.filterwarnings(\"ignore\")\n",
        "pd.set_option('display.max_columns', 500)\n",
        "pd.set_option('display.max_rows', 500)"
      ]
    },
    {
      "cell_type": "markdown",
      "metadata": {
        "id": "RPkjyKUEWBIt"
      },
      "source": [
        "## **2. Preprocesamiento de Datos**\n",
        "\n",
        "\n",
        "---\n"
      ]
    },
    {
      "cell_type": "code",
      "execution_count": null,
      "metadata": {
        "colab": {
          "base_uri": "https://localhost:8080/"
        },
        "id": "eaPZ6GPc9E7t",
        "outputId": "b0b17fa5-0c25-42d3-d3a8-bcb25fc67e67"
      },
      "outputs": [],
      "source": [
        "# # Solo la primera vez, para descargar el archivo\n",
        "df = pd.read_csv('https://raw.githubusercontent.com/ElProfeAlejo/Bootcamp_Databases/main/traffic_site.csv')\n",
        "df.to_csv('traffic_site.csv', index=False)"
      ]
    },
    {
      "cell_type": "code",
      "execution_count": null,
      "metadata": {},
      "outputs": [],
      "source": [
        "# # Cargamos el archivo ya descargado, cambiando el tipo de dato de algunas las columnas\n",
        "# df = pd.read_csv('traffic_site.csv', parse_dates=['date'], dtype={'fullVisitorId': 'object', 'visitId': 'object'})"
      ]
    },
    {
      "cell_type": "code",
      "execution_count": null,
      "metadata": {},
      "outputs": [],
      "source": [
        "df.head()"
      ]
    },
    {
      "cell_type": "code",
      "execution_count": null,
      "metadata": {
        "colab": {
          "base_uri": "https://localhost:8080/"
        },
        "id": "jYiYpsjf94lJ",
        "outputId": "0403e125-c98a-4c9a-c62d-191b27d244a3"
      },
      "outputs": [],
      "source": [
        "df.info()"
      ]
    },
    {
      "cell_type": "code",
      "execution_count": null,
      "metadata": {},
      "outputs": [],
      "source": [
        "# Convertimos los diccionarios en nuevas columnas\n",
        "diccionarios = ['device','geoNetwork','trafficSource','totals']\n",
        "\n",
        "for columna in diccionarios: \n",
        "    df = df.join(pd.DataFrame([json.loads(linea) for linea in df[columna]]))\n",
        "\n",
        "# Eliminamos las originales\n",
        "df.drop(columns=diccionarios, inplace=True)"
      ]
    },
    {
      "cell_type": "code",
      "execution_count": null,
      "metadata": {},
      "outputs": [],
      "source": [
        "# Convertimos la columna 'adwordsClickInfo' que se acaba de crear en nuevas columnas\n",
        "df = df.join(pd.DataFrame([json.loads(json.dumps(linea)) for linea in df['adwordsClickInfo']]))\n",
        "\n",
        "# Eliminamos las originales\n",
        "df.drop(columns=['adwordsClickInfo'], inplace=True)"
      ]
    },
    {
      "cell_type": "code",
      "execution_count": null,
      "metadata": {},
      "outputs": [],
      "source": [
        "df.info()"
      ]
    },
    {
      "cell_type": "code",
      "execution_count": null,
      "metadata": {},
      "outputs": [],
      "source": [
        "# Nulos en nuestra variable objetivo\n",
        "df.transactionRevenue.isna().sum()"
      ]
    },
    {
      "cell_type": "code",
      "execution_count": null,
      "metadata": {},
      "outputs": [],
      "source": [
        "# Filtramos los datos que no son nan, observemos que no hay ceros por lo que inferimos que los nulos son los ceros\n",
        "df[~df.transactionRevenue.isna()].transactionRevenue.unique()"
      ]
    },
    {
      "cell_type": "code",
      "execution_count": null,
      "metadata": {},
      "outputs": [],
      "source": [
        "# Rellenamos los nulos con 0 para la variable objetivo y dividimos por 1000000 para que quede en millones\n",
        "df.transactionRevenue.fillna(0, inplace=True)\n",
        "df['transactionRevenue'] = pd.to_numeric(df['transactionRevenue']) / 1000000"
      ]
    },
    {
      "cell_type": "code",
      "execution_count": null,
      "metadata": {},
      "outputs": [],
      "source": [
        "# Eliminarla la columna en caso de tener un solo valor\n",
        "eliminadas = 0\n",
        "columnas = []\n",
        "for columna in df.columns:\n",
        "    if len(df[columna].value_counts()) == 1:\n",
        "        df.drop(columns=columna, inplace=True)\n",
        "        eliminadas += 1\n",
        "        columnas.append(columna)\n",
        "print(f'Se eliminaron {eliminadas} columnas')\n",
        "print(f'Las columnas eliminadas fueron: {columnas}')"
      ]
    },
    {
      "cell_type": "code",
      "execution_count": null,
      "metadata": {},
      "outputs": [],
      "source": [
        "# Contamos valores diferentes en cada columna\n",
        "df.nunique(dropna=False)"
      ]
    },
    {
      "cell_type": "code",
      "execution_count": null,
      "metadata": {},
      "outputs": [],
      "source": [
        "# Analizamos las columnas que tengan nan\n",
        "df.isna().sum().sort_values(ascending=False)"
      ]
    },
    {
      "cell_type": "code",
      "execution_count": null,
      "metadata": {},
      "outputs": [],
      "source": [
        "# Contamos sus valores\n",
        "df['referralPath'].value_counts()"
      ]
    },
    {
      "cell_type": "code",
      "execution_count": null,
      "metadata": {},
      "outputs": [],
      "source": [
        "df['keyword'].value_counts()"
      ]
    },
    {
      "cell_type": "code",
      "execution_count": null,
      "metadata": {},
      "outputs": [],
      "source": [
        "df['gclId'].value_counts()"
      ]
    },
    {
      "cell_type": "code",
      "execution_count": null,
      "metadata": {},
      "outputs": [],
      "source": [
        "df['page'].value_counts()"
      ]
    },
    {
      "cell_type": "code",
      "execution_count": null,
      "metadata": {},
      "outputs": [],
      "source": [
        "df['slot'].value_counts()"
      ]
    },
    {
      "cell_type": "code",
      "execution_count": null,
      "metadata": {},
      "outputs": [],
      "source": [
        "df['adContent'].value_counts()"
      ]
    },
    {
      "cell_type": "code",
      "execution_count": null,
      "metadata": {},
      "outputs": [],
      "source": [
        "# Se decide eliminar estas columnas con nulos porque no aportan información\n",
        "df.drop(columns=['referralPath', 'keyword', 'adContent', 'slot', 'page', 'gclId'], inplace=True)"
      ]
    },
    {
      "cell_type": "code",
      "execution_count": null,
      "metadata": {},
      "outputs": [],
      "source": [
        "# Analizamos valores duplicados\n",
        "print(df.duplicated().sum())\n",
        "\n",
        "# Columnas duplicadas en caso de tenerlas\n",
        "if df.duplicated().sum() > 0:\n",
        "    print('Se encontraron duplicados')\n",
        "    print(df[df.duplicated()])\n",
        "else:\n",
        "    print('No se encontraron duplicados')"
      ]
    },
    {
      "cell_type": "code",
      "execution_count": null,
      "metadata": {},
      "outputs": [],
      "source": [
        "df.head()"
      ]
    },
    {
      "cell_type": "code",
      "execution_count": null,
      "metadata": {},
      "outputs": [],
      "source": [
        "df.info()"
      ]
    },
    {
      "cell_type": "code",
      "execution_count": null,
      "metadata": {},
      "outputs": [],
      "source": [
        "# Modificamos el tipo de datos de algunas columnas\n",
        "df['visitStartTime'] = pd.to_datetime(df['visitStartTime'], unit='s') # tiempo en segundos\n",
        "df['hits'] = df['hits'].astype(int)\n",
        "df['pageviews'] = df['pageviews'].astype(int)\n",
        "df['transactionRevenue'] = df['transactionRevenue'].astype(float)"
      ]
    },
    {
      "cell_type": "markdown",
      "metadata": {
        "id": "l4GucSUdpzW9"
      },
      "source": [
        "## **3. Exploración y Feature Engineering**\n",
        "\n",
        "\n",
        "---\n"
      ]
    },
    {
      "cell_type": "code",
      "execution_count": null,
      "metadata": {
        "colab": {
          "base_uri": "https://localhost:8080/"
        },
        "id": "6SP13KCgCbQo",
        "outputId": "8b8d9205-34c6-4879-fb0f-adf97bfcdb21"
      },
      "outputs": [],
      "source": [
        "# Grafico de dispersión (antes)\n",
        "plt.figure(figsize=(10, 6))\n",
        "plt.scatter(range(len(df['transactionRevenue'])), df['transactionRevenue'], alpha=0.5)\n",
        "plt.title('Gráfico de Dispersión de transactionRevenue')\n",
        "plt.xlabel('Índice')\n",
        "plt.ylabel('transactionRevenue')\n",
        "plt.show()"
      ]
    },
    {
      "cell_type": "code",
      "execution_count": null,
      "metadata": {
        "colab": {
          "base_uri": "https://localhost:8080/"
        },
        "id": "Z_gijFMDycFw",
        "outputId": "952dffc5-4da9-4bde-d5c3-d4d50ca6eb11"
      },
      "outputs": [],
      "source": [
        "sns.boxplot(df.transactionRevenue)"
      ]
    },
    {
      "cell_type": "code",
      "execution_count": null,
      "metadata": {
        "colab": {
          "base_uri": "https://localhost:8080/"
        },
        "id": "_DgK3Q8l9EGN",
        "outputId": "b343b15e-d656-438a-d02d-abccc2cd0893"
      },
      "outputs": [],
      "source": [
        "df.describe()"
      ]
    },
    {
      "cell_type": "code",
      "execution_count": null,
      "metadata": {
        "colab": {
          "base_uri": "https://localhost:8080/"
        },
        "id": "SwcdLJbi1oST",
        "outputId": "dd574720-e4db-41d4-bfbe-f2972f2e6f3d"
      },
      "outputs": [],
      "source": [
        "df['transactionRevenue'].value_counts().sort_values(ascending=False)"
      ]
    },
    {
      "cell_type": "code",
      "execution_count": null,
      "metadata": {
        "colab": {
          "base_uri": "https://localhost:8080/"
        },
        "id": "-TFz8n445meS",
        "outputId": "b2872175-87dd-4273-8555-0274d56c0f2a"
      },
      "outputs": [],
      "source": [
        "#Histograma (antes)\n",
        "ax = sns.histplot(data=df, x='transactionRevenue', kde=False)\n",
        "ax.set_title('Histograma de transactionRevenue')\n",
        "ax.set_xlabel('transactionRevenue')"
      ]
    },
    {
      "cell_type": "code",
      "execution_count": null,
      "metadata": {},
      "outputs": [],
      "source": [
        "def feature_engineering(df):\n",
        "    \n",
        "    df['visitStartTime'] = pd.to_datetime(df['visitStartTime'],unit=\"s\")\n",
        "    df['visitStartTime_year'] = df['visitStartTime'].apply(lambda x: x.year)\n",
        "    df['visitStartTime_month'] = df['visitStartTime'].apply(lambda x: x.month)\n",
        "    df['visitStartTime_day'] = df['visitStartTime'].apply(lambda x: x.day)\n",
        "    df['visitStartTime_weekday'] = df['visitStartTime'].dt.day_name()\n",
        "    # df['visitStartTime_hour'] = df['visitStartTime'].apply(lambda x : x.hour)\n",
        "    df['visitStartTime_range'] = pd.cut(df['visitStartTime'].dt.hour, \n",
        "                                    bins=[0, 6, 12, 18, 24], \n",
        "                                    labels=['madrugada', 'mañana', 'tarde', 'noche'], \n",
        "                                    ordered=False).astype('object')\n",
        "\n",
        "    df.drop(columns=['date', 'fullVisitorId', 'sessionId', 'visitId', 'visitStartTime'], inplace=True)"
      ]
    },
    {
      "cell_type": "code",
      "execution_count": null,
      "metadata": {
        "colab": {
          "base_uri": "https://localhost:8080/"
        },
        "id": "jxWu6tYmyYoi",
        "outputId": "3e28bb1f-6729-49ec-c867-5302f6187308"
      },
      "outputs": [],
      "source": [
        "feature_engineering(df)\n",
        "df.sample(5)"
      ]
    },
    {
      "cell_type": "code",
      "execution_count": null,
      "metadata": {},
      "outputs": [],
      "source": [
        "# datos de source\n",
        "df['source'].value_counts()"
      ]
    },
    {
      "cell_type": "code",
      "execution_count": null,
      "metadata": {},
      "outputs": [],
      "source": [
        "# datos de deviceCategory\n",
        "df['deviceCategory'].value_counts()"
      ]
    },
    {
      "cell_type": "code",
      "execution_count": null,
      "metadata": {},
      "outputs": [],
      "source": [
        "# datos de medium\n",
        "df['medium'].value_counts()"
      ]
    },
    {
      "cell_type": "code",
      "execution_count": null,
      "metadata": {},
      "outputs": [],
      "source": [
        "# datos de channelGrouping\n",
        "df['channelGrouping'].value_counts()"
      ]
    },
    {
      "cell_type": "code",
      "execution_count": null,
      "metadata": {},
      "outputs": [],
      "source": [
        "# Tabla cruzada de country y transactionRevenue cuando es diferente de cero\n",
        "pd.crosstab(df['country'], df['transactionRevenue'] != 0).sort_values(by=True, ascending=False)"
      ]
    },
    {
      "cell_type": "code",
      "execution_count": null,
      "metadata": {
        "colab": {
          "base_uri": "https://localhost:8080/"
        },
        "id": "beYPspc7yiwV",
        "jupyter": {
          "outputs_hidden": true
        },
        "outputId": "e10615fb-aa08-4ef2-fb3f-e682c0aa393f"
      },
      "outputs": [],
      "source": [
        "df.info()"
      ]
    },
    {
      "cell_type": "code",
      "execution_count": null,
      "metadata": {},
      "outputs": [],
      "source": [
        "# Borramos mas variables\n",
        "df.drop(columns=['country', 'continent', 'subContinent', 'region',\t'metro', 'city', 'networkDomain', 'campaign', 'medium', 'isMobile', 'browser', 'source'], inplace=True)"
      ]
    },
    {
      "cell_type": "code",
      "execution_count": null,
      "metadata": {},
      "outputs": [],
      "source": [
        "df.head()"
      ]
    },
    {
      "cell_type": "code",
      "execution_count": null,
      "metadata": {},
      "outputs": [],
      "source": [
        "df.shape"
      ]
    },
    {
      "cell_type": "code",
      "execution_count": null,
      "metadata": {
        "colab": {
          "base_uri": "https://localhost:8080/"
        },
        "id": "zi3SIPOUlMBW",
        "outputId": "7290b388-ae4a-4f7a-a306-1d2c0af64003"
      },
      "outputs": [],
      "source": [
        "plt.figure(figsize=(30, 10))\n",
        "heatmap = sns.heatmap(df.corr(numeric_only=True), annot=True, cmap='coolwarm', fmt=\".2f\", vmin=-1)\n",
        "heatmap.tick_params(axis='both', which='major', labelsize=14)\n",
        "plt.title('Mapa de Calor de Correlaciones', fontsize=18)\n",
        "plt.show()"
      ]
    },
    {
      "cell_type": "code",
      "execution_count": null,
      "metadata": {},
      "outputs": [],
      "source": [
        "# Borramos mas variables\n",
        "df.drop(columns=['pageviews', 'visitStartTime_year'], inplace=True)"
      ]
    },
    {
      "cell_type": "code",
      "execution_count": null,
      "metadata": {},
      "outputs": [],
      "source": [
        "plt.figure(figsize=(30, 10))\n",
        "heatmap = sns.heatmap(df.corr(numeric_only=True), annot=True, cmap='coolwarm', fmt=\".2f\", vmin=-1)\n",
        "heatmap.tick_params(axis='both', which='major', labelsize=14)\n",
        "plt.title('Mapa de Calor de Correlaciones', fontsize=18)\n",
        "plt.show()"
      ]
    },
    {
      "cell_type": "markdown",
      "metadata": {},
      "source": [
        "---"
      ]
    },
    {
      "cell_type": "code",
      "execution_count": null,
      "metadata": {},
      "outputs": [],
      "source": [
        "# Dummizar variables categóricas\n",
        "df = pd.get_dummies(df, drop_first=True)"
      ]
    },
    {
      "cell_type": "code",
      "execution_count": null,
      "metadata": {},
      "outputs": [],
      "source": [
        "plt.figure(figsize=(30, 10))\n",
        "heatmap = sns.heatmap(df.corr(numeric_only=True), annot=True, cmap='coolwarm', fmt=\".2f\", vmin=-1)\n",
        "heatmap.tick_params(axis='both', which='major', labelsize=14)\n",
        "plt.title('Mapa de Calor de Correlaciones', fontsize=18)\n",
        "plt.show()"
      ]
    },
    {
      "cell_type": "code",
      "execution_count": null,
      "metadata": {},
      "outputs": [],
      "source": [
        "# Correlaciones con la variable objetivo ordenadas de mayor a menor en valor absoluto\n",
        "df.corr()['transactionRevenue'].abs().sort_values(ascending=False)"
      ]
    },
    {
      "cell_type": "code",
      "execution_count": null,
      "metadata": {},
      "outputs": [],
      "source": [
        "# Correlacion entre las variables ordenadas de mayor a menor\n",
        "correlacion = df.corr().abs().unstack().sort_values(ascending=False).drop_duplicates()\n",
        "correlacion[correlacion != 1]"
      ]
    },
    {
      "cell_type": "code",
      "execution_count": null,
      "metadata": {},
      "outputs": [],
      "source": [
        "df.shape"
      ]
    },
    {
      "cell_type": "code",
      "execution_count": null,
      "metadata": {},
      "outputs": [],
      "source": [
        "df.to_csv('traffic_site_YO.csv', index=False)"
      ]
    },
    {
      "cell_type": "markdown",
      "metadata": {},
      "source": [
        "---"
      ]
    }
  ],
  "metadata": {
    "colab": {
      "collapsed_sections": [
        "OYicz3XQPBWp",
        "RPkjyKUEWBIt",
        "l4GucSUdpzW9",
        "wRH2u-dX7WzM",
        "7y5Llo_mx9Cz",
        "jcSLZs21QeUk"
      ],
      "provenance": []
    },
    "kernelspec": {
      "display_name": "Python 3 (ipykernel)",
      "language": "python",
      "name": "python3"
    },
    "language_info": {
      "codemirror_mode": {
        "name": "ipython",
        "version": 3
      },
      "file_extension": ".py",
      "mimetype": "text/x-python",
      "name": "python",
      "nbconvert_exporter": "python",
      "pygments_lexer": "ipython3",
      "version": "3.11.5"
    }
  },
  "nbformat": 4,
  "nbformat_minor": 0
}
