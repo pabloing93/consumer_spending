{
  "cells": [
    {
      "cell_type": "markdown",
      "metadata": {
        "id": "wRH2u-dX7WzM"
      },
      "source": [
        "## **4.01. Construcción de Modelo** (LGBM)"
      ]
    },
    {
      "cell_type": "code",
      "execution_count": 11,
      "metadata": {
        "id": "MTmDLs_fmQfh"
      },
      "outputs": [],
      "source": [
        "import pandas as pd\n",
        "import numpy as np\n",
        "import matplotlib.pyplot as plt\n",
        "import seaborn as sns\n",
        "\n",
        "import lightgbm as lgb\n",
        "\n",
        "from joblib import dump, load\n",
        "from sklearn.model_selection import train_test_split, GridSearchCV\n",
        "from sklearn.metrics import r2_score, mean_squared_error, accuracy_score\n",
        "from sklearn.preprocessing import StandardScaler\n",
        "\n",
        "import warnings; warnings.filterwarnings(\"ignore\")\n",
        "pd.set_option('display.max_columns', 500)\n",
        "pd.set_option('display.max_rows', 500)"
      ]
    },
    {
      "cell_type": "markdown",
      "metadata": {},
      "source": [
        "---"
      ]
    },
    {
      "cell_type": "markdown",
      "metadata": {},
      "source": [
        "### Carga de Datos"
      ]
    },
    {
      "cell_type": "code",
      "execution_count": 12,
      "metadata": {
        "id": "zXj0uwYOmQfi"
      },
      "outputs": [],
      "source": [
        "# CARGA DE DATOS POST ANALISIS\n",
        "df = pd.read_csv('df_traffic_mejor.csv')"
      ]
    },
    {
      "cell_type": "markdown",
      "metadata": {
        "id": "hEP6Al35mQfj"
      },
      "source": [
        "---"
      ]
    },
    {
      "cell_type": "markdown",
      "metadata": {
        "id": "7sPviUPK13Ly"
      },
      "source": [
        "### R2 Ajustado"
      ]
    },
    {
      "cell_type": "code",
      "execution_count": 13,
      "metadata": {
        "id": "-vgrkWRk125e"
      },
      "outputs": [],
      "source": [
        "# Definimos R2 ajustado\n",
        "def r2_adj(df, y_true, y_pred):\n",
        "    n = len(y_true)\n",
        "    p = len(df.columns)\n",
        "    r2 = r2_score(y_true, y_pred)\n",
        "    return 1 - (1 - r2) * (n - 1) / (n - p - 1)"
      ]
    },
    {
      "cell_type": "markdown",
      "metadata": {},
      "source": [
        "---"
      ]
    },
    {
      "cell_type": "markdown",
      "metadata": {
        "id": "6AuOqZLhmQfj"
      },
      "source": [
        "### Modelo LGBM"
      ]
    },
    {
      "cell_type": "markdown",
      "metadata": {},
      "source": [
        "Clasificacion"
      ]
    },
    {
      "cell_type": "code",
      "execution_count": 14,
      "metadata": {
        "id": "LBe6qB3bmQfj"
      },
      "outputs": [],
      "source": [
        "data = df.copy()"
      ]
    },
    {
      "cell_type": "code",
      "execution_count": 15,
      "metadata": {
        "id": "pTQfC5CfmQfk"
      },
      "outputs": [],
      "source": [
        "def lbgclass(seed=42, data=data, cv=5):\n",
        "        # Clasificador\n",
        "        clf_lgb = lgb.LGBMClassifier(random_state=seed, n_jobs=-1, verbosity=-1)\n",
        "\n",
        "        # Dividimos en entrenamiento y prueba\n",
        "        X = data.drop('transactionRevenue', axis=1)\n",
        "        y = data['transactionRevenue'].apply(lambda x: 1 if x > 0 else 0)\n",
        "        X_train, X_test, y_train, y_test = train_test_split(X, y, test_size=0.2, random_state=42)\n",
        "\n",
        "\n",
        "        # Creamos un random search para encontrar los mejores hiperparámetros\n",
        "        params = {\n",
        "                'boosting_type': ['gbdt', 'dart', 'goss'], # Tipo de modelo\n",
        "                'num_boost_round': [800], # Número de árboles\n",
        "                'max_depth': [3, 5], # Profundidad máxima\n",
        "                'learning_rate': [0.01, 0.03, 0.05],  # Tasa de aprendizaje\n",
        "                }\n",
        "\n",
        "        # Obtenemos los mejores hiperparámetros\n",
        "        search = GridSearchCV(\n",
        "                estimator=clf_lgb,\n",
        "                param_grid=params,\n",
        "                scoring='accuracy',\n",
        "                cv=cv)\n",
        "        search.fit(X_train, y_train)\n",
        "        best_params = search.best_params_\n",
        "\n",
        "        # Entrenamos el clasificador\n",
        "        clf_lgb = lgb.LGBMClassifier(**best_params, random_state=seed, n_jobs=-1, verbosity=-1)\n",
        "        clf_lgb.fit(X_train, y_train, eval_set=[(X_test, y_test)])\n",
        "\n",
        "        # Predecimos con el clasificador\n",
        "        y_pred_cls_lgb = clf_lgb.predict(X_test)\n",
        "\n",
        "        # Score del clasificador\n",
        "        print(f'Precisión del clasificador: {accuracy_score(y_test, y_pred_cls_lgb):.3f}')\n",
        "\n",
        "        return clf_lgb"
      ]
    },
    {
      "cell_type": "code",
      "execution_count": 16,
      "metadata": {
        "colab": {
          "base_uri": "https://localhost:8080/"
        },
        "id": "Ke1d1DebmQfk",
        "outputId": "516dcf83-54ba-450c-f5e4-192f73f58d5e"
      },
      "outputs": [
        {
          "name": "stdout",
          "output_type": "stream",
          "text": [
            "Precisión del clasificador: 0.988\n"
          ]
        }
      ],
      "source": [
        "clf_lgb = lbgclass()"
      ]
    },
    {
      "cell_type": "markdown",
      "metadata": {},
      "source": [
        "Regresion"
      ]
    },
    {
      "cell_type": "code",
      "execution_count": 17,
      "metadata": {
        "id": "QI2F2D0SmQfl"
      },
      "outputs": [],
      "source": [
        "def lgbreg(seed=42, data=data, cv=5, clf=True):\n",
        "        # Regresor\n",
        "        reg_lgb = lgb.LGBMRegressor(random_state=seed, n_jobs=-1, verbosity=-1)\n",
        "\n",
        "        if clf:\n",
        "                # Agregamos la columna 'class' y dividimos en entrenamiento y prueba\n",
        "                data['class'] = clf_lgb.predict(data.drop(columns=['transactionRevenue']))\n",
        "        X = data.drop(columns=['transactionRevenue'])\n",
        "        y = data['transactionRevenue']\n",
        "        X_train, X_test, y_train, y_test = train_test_split(X, y, test_size=0.15, random_state=42)\n",
        "\n",
        "        # Creamos un random search para encontrar los mejores hiperparámetros\n",
        "        params = {\n",
        "                'boosting_type': ['gbdt', 'dart', 'goss'], # Tipo de modelo\n",
        "                'num_boost_round': [800], # Número de árboles\n",
        "                'max_depth': [3, 5], # Profundidad máxima\n",
        "                'learning_rate': [0.01, 0.03, 0.05],  # Tasa de aprendizaje\n",
        "                }\n",
        "\n",
        "        # Obtenemos los mejores hiperparámetros\n",
        "        search = GridSearchCV(\n",
        "                estimator=reg_lgb,\n",
        "                param_grid=params,\n",
        "                scoring='neg_mean_squared_error',\n",
        "                cv=cv)\n",
        "        search.fit(X_train, y_train)\n",
        "        best_params = search.best_params_\n",
        "\n",
        "        # Entrenamos el regresor\n",
        "        reg_lgb = lgb.LGBMRegressor(**best_params, random_state=seed, n_jobs=-1, verbosity=-1)\n",
        "        reg_lgb.fit(X_train, y_train, eval_set=[(X_test, y_test)])\n",
        "\n",
        "        # Predecimos con el regresor\n",
        "        y_pred_reg_lgb = reg_lgb.predict(X_test)\n",
        "\n",
        "        # Convertimos todas las predicciones menores a 0.01 en 0\n",
        "        y_pred_reg_lgb = np.where(y_pred_reg_lgb < 0.01, 0, y_pred_reg_lgb)\n",
        "\n",
        "        # Score del regresor para rmse\n",
        "        print(f'Raiz del error para el regresor: {np.sqrt(mean_squared_error(y_test, y_pred_reg_lgb)):.3f}')\n",
        "\n",
        "        return reg_lgb, y_pred_reg_lgb, np.sqrt(mean_squared_error(y_test, y_pred_reg_lgb)), r2_score( y_test, y_pred_reg_lgb), r2_adj(X_test, y_test, y_pred_reg_lgb)"
      ]
    },
    {
      "cell_type": "code",
      "execution_count": 18,
      "metadata": {
        "colab": {
          "base_uri": "https://localhost:8080/"
        },
        "id": "jDRqBMWumQfm",
        "outputId": "ce96a499-916b-4140-b00b-ef25fe21294f"
      },
      "outputs": [
        {
          "name": "stdout",
          "output_type": "stream",
          "text": [
            "Raiz del error para el regresor: 13.892\n"
          ]
        }
      ],
      "source": [
        "reg_lgb, reg_lgb_pred, lgb_rmse, lgb_r2, lgb_r2_adj = lgbreg()"
      ]
    },
    {
      "cell_type": "markdown",
      "metadata": {},
      "source": [
        "Importancia de Variables"
      ]
    },
    {
      "cell_type": "code",
      "execution_count": 19,
      "metadata": {
        "colab": {
          "base_uri": "https://localhost:8080/",
          "height": 447
        },
        "id": "IPExZBbsmQfl",
        "outputId": "0a08922c-76d2-4910-8d26-359bd921cf1e"
      },
      "outputs": [
        {
          "data": {
            "text/plain": [
              "<AxesSubplot: >"
            ]
          },
          "execution_count": 19,
          "metadata": {},
          "output_type": "execute_result"
        },
        {
          "data": {
            "image/png": "[encoded data removed]",
            "text/plain": [
              "<Figure size 640x480 with 1 Axes>"
            ]
          },
          "metadata": {},
          "output_type": "display_data"
        }
      ],
      "source": [
        "# feature importance\n",
        "sns.barplot(x = list(reg_lgb.feature_importances_), y = list(reg_lgb.feature_name_))"
      ]
    },
    {
      "cell_type": "markdown",
      "metadata": {},
      "source": [
        "Resultados"
      ]
    },
    {
      "cell_type": "code",
      "execution_count": 20,
      "metadata": {
        "colab": {
          "base_uri": "https://localhost:8080/"
        },
        "id": "l5CH7TUYmQfm",
        "outputId": "1b8cdbc4-d32a-422a-c4f4-460b3ac656e3"
      },
      "outputs": [
        {
          "name": "stdout",
          "output_type": "stream",
          "text": [
            "Resultados:\n",
            "Los hiperparámetros son: {'boosting_type': 'dart', 'class_weight': None, 'colsample_bytree': 1.0, 'importance_type': 'split', 'learning_rate': 0.03, 'max_depth': 3, 'min_child_samples': 20, 'min_child_weight': 0.001, 'min_split_gain': 0.0, 'n_estimators': 100, 'n_jobs': -1, 'num_leaves': 31, 'objective': None, 'random_state': 42, 'reg_alpha': 0.0, 'reg_lambda': 0.0, 'subsample': 1.0, 'subsample_for_bin': 200000, 'subsample_freq': 0, 'num_boost_round': 800, 'verbosity': -1}\n",
            "El rmse es: 13.89\n",
            "El r2 es: 0.32\n",
            "El r2 ajustado es: 0.31\n"
          ]
        }
      ],
      "source": [
        "print('Resultados:')\n",
        "\n",
        "print(f'Los hiperparámetros son: {reg_lgb.get_params()}')\n",
        "print(f'El rmse es: {lgb_rmse:.2f}')\n",
        "print(f'El r2 es: {lgb_r2:.2f}')\n",
        "print(f'El r2 ajustado es: {lgb_r2_adj:.2f}')"
      ]
    },
    {
      "cell_type": "markdown",
      "metadata": {},
      "source": [
        "Guardamos"
      ]
    },
    {
      "cell_type": "code",
      "execution_count": 21,
      "metadata": {
        "id": "jolOFVnXmQfm"
      },
      "outputs": [
        {
          "data": {
            "text/plain": [
              "['regresor_lgb_1.joblib']"
            ]
          },
          "execution_count": 21,
          "metadata": {},
          "output_type": "execute_result"
        }
      ],
      "source": [
        "# Guardamos el modelo LGBM\n",
        "dump(clf_lgb, 'clasificador_lgb.joblib')\n",
        "dump(reg_lgb, 'regresor_lgb_1.joblib')"
      ]
    },
    {
      "cell_type": "markdown",
      "metadata": {
        "id": "DV85OSI3mQfx"
      },
      "source": [
        "---\n",
        "\n",
        "---"
      ]
    },
    {
      "cell_type": "code",
      "execution_count": 29,
      "metadata": {},
      "outputs": [
        {
          "ename": "ValueError",
          "evalue": "HASTA AQUI, EL RESTO ES PRUEBA",
          "output_type": "error",
          "traceback": [
            "\u001b[1;31m---------------------------------------------------------------------------\u001b[0m",
            "\u001b[1;31mValueError\u001b[0m                                Traceback (most recent call last)",
            "Cell \u001b[1;32mIn[29], line 1\u001b[0m\n\u001b[1;32m----> 1\u001b[0m \u001b[38;5;28;01mraise\u001b[39;00m \u001b[38;5;167;01mValueError\u001b[39;00m(\u001b[38;5;124m'\u001b[39m\u001b[38;5;124mHASTA AQUI, EL RESTO ES PRUEBA\u001b[39m\u001b[38;5;124m'\u001b[39m)\n",
            "\u001b[1;31mValueError\u001b[0m: HASTA AQUI, EL RESTO ES PRUEBA"
          ]
        }
      ],
      "source": [
        "raise ValueError('HASTA AQUI, EL RESTO ES PRUEBA')"
      ]
    },
    {
      "cell_type": "markdown",
      "metadata": {},
      "source": [
        "---\n",
        "---"
      ]
    },
    {
      "cell_type": "markdown",
      "metadata": {},
      "source": [
        "#### Ingenieria"
      ]
    },
    {
      "cell_type": "markdown",
      "metadata": {},
      "source": [
        "* **Transformacion de Variables**"
      ]
    },
    {
      "cell_type": "code",
      "execution_count": 30,
      "metadata": {},
      "outputs": [],
      "source": [
        "data = df.copy()"
      ]
    },
    {
      "cell_type": "code",
      "execution_count": 33,
      "metadata": {},
      "outputs": [
        {
          "data": {
            "text/plain": [
              "channelGrouping         8\n",
              "city                  296\n",
              "metro                  53\n",
              "visitNumber            50\n",
              "browser                22\n",
              "operatingSystem        12\n",
              "deviceCategory          3\n",
              "campaign                7\n",
              "source                 76\n",
              "medium                  7\n",
              "hits                   96\n",
              "pageviews              75\n",
              "transactionRevenue    147\n",
              "month                  12\n",
              "quarterMonth            4\n",
              "day                    31\n",
              "weekday               366\n",
              "time_range              5\n",
              "dtype: int64"
            ]
          },
          "execution_count": 33,
          "metadata": {},
          "output_type": "execute_result"
        }
      ],
      "source": [
        "data.nunique().loc[data.nunique() > 2]"
      ]
    },
    {
      "cell_type": "code",
      "execution_count": 34,
      "metadata": {},
      "outputs": [],
      "source": [
        "# Tratamiento de datos adicional, estandarizando las variables numericas con z-score\n",
        "scaler = StandardScaler()\n",
        "\n",
        "transactionRevenue = data['transactionRevenue']\n",
        "num_cols = data.select_dtypes(include=['int64', 'float64']).columns\n",
        "data[num_cols] = scaler.fit_transform(data[num_cols])\n",
        "data['transactionRevenue'] = transactionRevenue"
      ]
    },
    {
      "cell_type": "code",
      "execution_count": 35,
      "metadata": {},
      "outputs": [
        {
          "name": "stdout",
          "output_type": "stream",
          "text": [
            "Precisión del clasificador: 0.988\n"
          ]
        }
      ],
      "source": [
        "clf_lgb = lbgclass(data=data)"
      ]
    },
    {
      "cell_type": "code",
      "execution_count": 36,
      "metadata": {},
      "outputs": [
        {
          "name": "stdout",
          "output_type": "stream",
          "text": [
            "Raiz del error para el regresor: 0.707\n"
          ]
        }
      ],
      "source": [
        "reg_lgb, reg_lgb_pred, lgb_rmse, lgb_r2, lgb_r2_adj = lgbreg(data=data)"
      ]
    },
    {
      "cell_type": "code",
      "execution_count": 37,
      "metadata": {},
      "outputs": [
        {
          "data": {
            "text/plain": [
              "<AxesSubplot: >"
            ]
          },
          "execution_count": 37,
          "metadata": {},
          "output_type": "execute_result"
        },
        {
          "data": {
            "image/png": "[encoded data removed]",
            "text/plain": [
              "<Figure size 640x480 with 1 Axes>"
            ]
          },
          "metadata": {},
          "output_type": "display_data"
        }
      ],
      "source": [
        "# feature importance\n",
        "sns.barplot(x = list(reg_lgb.feature_importances_), y = list(reg_lgb.feature_name_))"
      ]
    },
    {
      "cell_type": "markdown",
      "metadata": {},
      "source": [
        "Resultados"
      ]
    },
    {
      "cell_type": "code",
      "execution_count": 38,
      "metadata": {},
      "outputs": [
        {
          "name": "stdout",
          "output_type": "stream",
          "text": [
            "Resultados:\n",
            "Los hiperparámetros son: {'boosting_type': 'dart', 'class_weight': None, 'colsample_bytree': 1.0, 'importance_type': 'split', 'learning_rate': 0.01, 'max_depth': 5, 'min_child_samples': 20, 'min_child_weight': 0.001, 'min_split_gain': 0.0, 'n_estimators': 100, 'n_jobs': -1, 'num_leaves': 31, 'objective': None, 'random_state': 42, 'reg_alpha': 0.0, 'reg_lambda': 0.0, 'subsample': 1.0, 'subsample_for_bin': 200000, 'subsample_freq': 0, 'num_boost_round': 800, 'verbosity': -1}\n",
            "El rmse es: 0.71\n",
            "El r2 es: 0.23\n",
            "El r2 ajustado es: 0.22\n"
          ]
        }
      ],
      "source": [
        "print('Resultados:')\n",
        "\n",
        "print(f'Los hiperparámetros son: {reg_lgb.get_params()}')\n",
        "print(f'El rmse es: {lgb_rmse:.2f}')\n",
        "print(f'El r2 es: {lgb_r2:.2f}')\n",
        "print(f'El r2 ajustado es: {lgb_r2_adj:.2f}')"
      ]
    },
    {
      "cell_type": "code",
      "execution_count": null,
      "metadata": {},
      "outputs": [],
      "source": [
        "# Guardamos el modelo LGBM\n",
        "dump(reg_lgb, 'regresor_lgb_3.joblib')"
      ]
    },
    {
      "cell_type": "markdown",
      "metadata": {},
      "source": [
        "---\n",
        "---"
      ]
    }
  ],
  "metadata": {
    "colab": {
      "provenance": []
    },
    "kernelspec": {
      "display_name": "Python 3 (ipykernel)",
      "language": "python",
      "name": "python3"
    },
    "language_info": {
      "codemirror_mode": {
        "name": "ipython",
        "version": 3
      },
      "file_extension": ".py",
      "mimetype": "text/x-python",
      "name": "python",
      "nbconvert_exporter": "python",
      "pygments_lexer": "ipython3",
      "version": "3.11.5"
    }
  },
  "nbformat": 4,
  "nbformat_minor": 0
}
