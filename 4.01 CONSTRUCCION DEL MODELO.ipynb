{
  "cells": [
    {
      "cell_type": "markdown",
      "metadata": {
        "id": "wRH2u-dX7WzM"
      },
      "source": [
        "## **4.01. Construcción de Modelos** (entrenamiento)"
      ]
    },
    {
      "cell_type": "code",
      "execution_count": 2,
      "metadata": {
        "id": "MTmDLs_fmQfh"
      },
      "outputs": [],
      "source": [
        "import pandas as pd\n",
        "import numpy as np\n",
        "import matplotlib.pyplot as plt\n",
        "import seaborn as sns\n",
        "\n",
        "import lightgbm as lgb\n",
        "# Si se usa colab hay que instalar catboost\n",
        "try:\n",
        "    import catboost as cat\n",
        "except Exception:\n",
        "    !pip install catboost\n",
        "finally:\n",
        "    import catboost as cat\n",
        "\n",
        "try:\n",
        "    import optuna\n",
        "except Exception:\n",
        "    !pip install optuna\n",
        "finally:\n",
        "    import optuna\n",
        "\n",
        "# import tensorflow as tf\n",
        "import seaborn as sns\n",
        "from joblib import dump, load\n",
        "from sklearn.model_selection import cross_val_score, train_test_split\n",
        "from sklearn.ensemble import VotingClassifier, VotingRegressor\n",
        "from sklearn.metrics import r2_score, mean_squared_error, accuracy_score\n",
        "\n",
        "import warnings; warnings.filterwarnings(\"ignore\")\n",
        "pd.set_option('display.max_columns', 500)\n",
        "pd.set_option('display.max_rows', 500)"
      ]
    },
    {
      "cell_type": "code",
      "execution_count": 3,
      "metadata": {
        "id": "zXj0uwYOmQfi"
      },
      "outputs": [],
      "source": [
        "# CARGA DE DATOS POST ANALISIS\n",
        "df = pd.read_csv('ale_traffic_site.csv')"
      ]
    },
    {
      "cell_type": "markdown",
      "metadata": {
        "id": "hEP6Al35mQfj"
      },
      "source": [
        "---"
      ]
    },
    {
      "cell_type": "code",
      "execution_count": 6,
      "metadata": {},
      "outputs": [
        {
          "data": {
            "text/plain": [
              "visitNumber                          50\n",
              "hits                                 96\n",
              "transactionRevenue                  147\n",
              "visitStartTime_month                 12\n",
              "visitStartTime_day                   31\n",
              "channelGrouping_Affiliates            2\n",
              "channelGrouping_Direct                2\n",
              "channelGrouping_Display               2\n",
              "channelGrouping_Organic Search        2\n",
              "channelGrouping_Paid Search           2\n",
              "channelGrouping_Referral              2\n",
              "channelGrouping_Social                2\n",
              "operatingSystem_Android               2\n",
              "operatingSystem_BlackBerry            2\n",
              "operatingSystem_Chrome OS             2\n",
              "operatingSystem_Firefox OS            2\n",
              "operatingSystem_Linux                 2\n",
              "operatingSystem_Macintosh             2\n",
              "operatingSystem_Nintendo WiiU         2\n",
              "operatingSystem_Samsung               2\n",
              "operatingSystem_Windows               2\n",
              "operatingSystem_Windows Phone         2\n",
              "operatingSystem_iOS                   2\n",
              "deviceCategory_mobile                 2\n",
              "deviceCategory_tablet                 2\n",
              "visitStartTime_weekday_Monday         2\n",
              "visitStartTime_weekday_Saturday       2\n",
              "visitStartTime_weekday_Sunday         2\n",
              "visitStartTime_weekday_Thursday       2\n",
              "visitStartTime_weekday_Tuesday        2\n",
              "visitStartTime_weekday_Wednesday      2\n",
              "visitStartTime_range_mañana           2\n",
              "visitStartTime_range_noche            2\n",
              "visitStartTime_range_tarde            2\n",
              "dtype: int64"
            ]
          },
          "execution_count": 6,
          "metadata": {},
          "output_type": "execute_result"
        }
      ],
      "source": [
        "df.nunique()"
      ]
    },
    {
      "cell_type": "code",
      "execution_count": null,
      "metadata": {},
      "outputs": [],
      "source": [
        "# Tratamiento de datos adicional, estandarizando las variables numericas con z-score\n",
        "from sklearn.preprocessing import StandardScaler\n",
        "\n",
        "scaler = StandardScaler()\n",
        "\n",
        "num_cols = ['visitNumber', 'hits', 'visitStartTime_month', 'visitStartTime_day']\n",
        "df[num_cols] = scaler.fit_transform(df[num_cols])"
      ]
    },
    {
      "cell_type": "markdown",
      "metadata": {},
      "source": [
        "---"
      ]
    },
    {
      "cell_type": "markdown",
      "metadata": {
        "id": "HrORPhg0mQfj"
      },
      "source": [
        "### Configuramos Optuna"
      ]
    },
    {
      "cell_type": "code",
      "execution_count": null,
      "metadata": {
        "id": "WpJFEQ6DmQfj"
      },
      "outputs": [],
      "source": [
        "def optuna_search(model, param_space, X_train, y_train, scoring='neg_root_mean_squared_error', n_iter=10, cv=5):\n",
        "    \"\"\"\n",
        "    Performs hyperparameter tuning using Optuna.\n",
        "\n",
        "    Parameters:\n",
        "        model: The estimator of the model you want to tune.\n",
        "        param_space: A dictionary with hyperparameter names and their search spaces.\n",
        "        X_train: Training feature set.\n",
        "        y_train: Labels of the training set.\n",
        "        scoring: The evaluation metric. Default is 'accuracy'.\n",
        "        n_iter: Number of Optuna trials. Default is 10.\n",
        "        cv: Number of cross-validation partitions. Default is 5.\n",
        "\n",
        "    Returns:\n",
        "        optuna.study.Study: The Optuna study object.\n",
        "    \"\"\"\n",
        "\n",
        "    def objective(trial):\n",
        "        # Define hyperparameters to be optimized\n",
        "        params = {}\n",
        "        for param_name, param_range in param_space.items():\n",
        "            if isinstance(param_range, list):\n",
        "                # If they are categorical values, use suggest_categorical\n",
        "                params[param_name] = trial.suggest_categorical(param_name, param_range)\n",
        "            elif isinstance(param_range, tuple) and len(param_range) == 2:\n",
        "                lower, upper = param_range\n",
        "                if isinstance(lower, int) and isinstance(upper, int):\n",
        "                    # If it is a range of integers, use suggest_int\n",
        "                    params[param_name] = trial.suggest_int(param_name, lower, upper)\n",
        "                elif isinstance(lower, float) and isinstance(upper, float):\n",
        "                    # If it is a range of floats, use suggest_uniform\n",
        "                    params[param_name] = trial.suggest_discrete_uniform(param_name, lower, upper, 0.02)\n",
        "                else:\n",
        "                    raise ValueError(f\"Unsupported range type for hyperparameter {param_name}\")\n",
        "            else:\n",
        "                raise ValueError(f\"Invalid range for hyperparameter {param_name}\")\n",
        "\n",
        "        # Set the hyperparameters in the model\n",
        "        model.set_params(**params)\n",
        "\n",
        "        # Perform cross-validation\n",
        "        scores = cross_val_score(model, X_train, y_train, cv=cv, scoring=scoring)\n",
        "        score = scores.mean()\n",
        "\n",
        "        return score\n",
        "\n",
        "    study = optuna.create_study(direction='maximize')\n",
        "    study.optimize(objective, n_trials=n_iter)\n",
        "\n",
        "    return study"
      ]
    },
    {
      "cell_type": "markdown",
      "metadata": {
        "id": "7sPviUPK13Ly"
      },
      "source": [
        "### R2 Ajustado"
      ]
    },
    {
      "cell_type": "code",
      "execution_count": null,
      "metadata": {
        "id": "-vgrkWRk125e"
      },
      "outputs": [],
      "source": [
        "# Definimos R2 ajustado\n",
        "def r2_adj(df, y_true, y_pred):\n",
        "    n = len(y_true)\n",
        "    p = len(df.columns)\n",
        "    r2 = r2_score(y_true, y_pred)\n",
        "    return 1 - (1 - r2) * (n - 1) / (n - p - 1)"
      ]
    },
    {
      "cell_type": "markdown",
      "metadata": {
        "id": "6AuOqZLhmQfj"
      },
      "source": [
        "### Modelo LGBM"
      ]
    },
    {
      "cell_type": "code",
      "execution_count": null,
      "metadata": {
        "id": "LBe6qB3bmQfj"
      },
      "outputs": [],
      "source": [
        "data = df.copy()"
      ]
    },
    {
      "cell_type": "code",
      "execution_count": null,
      "metadata": {
        "id": "pTQfC5CfmQfk"
      },
      "outputs": [],
      "source": [
        "def lbgclass(seed=42, data=data, n_iter=10, cv=5):\n",
        "        # Clasificador\n",
        "        clf_lgb = lgb.LGBMClassifier(random_state=seed, n_jobs=-1, verbosity=-1)\n",
        "\n",
        "        # Dividimos en entrenamiento y prueba\n",
        "        X = data.drop('transactionRevenue', axis=1)\n",
        "        y = data['transactionRevenue'].apply(lambda x: 1 if x > 0 else 0)\n",
        "        X_train, X_test, y_train, y_test = train_test_split(X, y, test_size=0.2, random_state=42)\n",
        "\n",
        "\n",
        "        # Creamos un random search para encontrar los mejores hiperparámetros\n",
        "        params = {\n",
        "                'boosting_type': ['gbdt', 'dart', 'rf'], # 'goss'\n",
        "                'max_depth': (3, 10),\n",
        "                'learning_rate': (0.01, 0.2),\n",
        "                'n_estimators': (100, 1000),\n",
        "                'subsample': (0.5, 1.0),\n",
        "                'colsample_bytree': (0.5, 1.0),\n",
        "                'reg_alpha': (0.0, 1.0),\n",
        "                'reg_lambda': (0.0, 1.0),\n",
        "                'min_child_weight': (1, 10),\n",
        "                'num_leaves': (31, 256),\n",
        "                'min_child_samples': (5, 100),\n",
        "                'min_split_gain': (0.0, 0.5),\n",
        "                'subsample_freq': (0, 10),\n",
        "                'feature_fraction': (0.5, 1.0),\n",
        "                'bagging_fraction': (0.5, 1.0),\n",
        "                'bagging_freq': (1, 10),\n",
        "                }\n",
        "\n",
        "        # Obtenemos los mejores hiperparámetros\n",
        "        search = optuna_search(\n",
        "                model=clf_lgb,\n",
        "                param_space=params,\n",
        "                X_train=X_train, y_train=y_train,\n",
        "                scoring='accuracy',\n",
        "                cv=cv,\n",
        "                n_iter=n_iter)\n",
        "        best_params = search.best_params\n",
        "\n",
        "        # Entrenamos el clasificador\n",
        "        clf_lgb = lgb.LGBMClassifier(**best_params, random_state=seed, n_jobs=-1, verbosity=-1)\n",
        "        clf_lgb.fit(X_train, y_train, eval_set=[(X_test, y_test)])\n",
        "\n",
        "        # Predecimos con el clasificador\n",
        "        y_pred_cls_lgb = clf_lgb.predict(X_test)\n",
        "\n",
        "        # Score del clasificador\n",
        "        print(f'Precisión del clasificador: {accuracy_score(y_test, y_pred_cls_lgb):.3f}')\n",
        "\n",
        "        return clf_lgb"
      ]
    },
    {
      "cell_type": "code",
      "execution_count": null,
      "metadata": {
        "colab": {
          "base_uri": "https://localhost:8080/"
        },
        "id": "Ke1d1DebmQfk",
        "outputId": "516dcf83-54ba-450c-f5e4-192f73f58d5e"
      },
      "outputs": [
        {
          "name": "stderr",
          "output_type": "stream",
          "text": [
            "[I 2024-03-16 01:31:52,205] A new study created in memory with name: no-name-c4bdec6e-d88c-4570-8268-5b888b9cbdec\n",
            "[I 2024-03-16 01:31:57,956] Trial 0 finished with value: 0.9859558033645769 and parameters: {'boosting_type': 'gbdt', 'max_depth': 5, 'learning_rate': 0.01, 'n_estimators': 910, 'subsample': 0.78, 'colsample_bytree': 0.58, 'reg_alpha': 0.6, 'reg_lambda': 0.28, 'min_child_weight': 3, 'num_leaves': 166, 'min_child_samples': 63, 'min_split_gain': 0.1, 'subsample_freq': 10, 'feature_fraction': 0.52, 'bagging_fraction': 0.9199999999999999, 'bagging_freq': 1}. Best is trial 0 with value: 0.9859558033645769.\n",
            "[I 2024-03-16 01:32:10,840] Trial 1 finished with value: 0.9722160183682398 and parameters: {'boosting_type': 'dart', 'max_depth': 6, 'learning_rate': 0.09, 'n_estimators': 456, 'subsample': 0.6799999999999999, 'colsample_bytree': 0.6, 'reg_alpha': 0.02, 'reg_lambda': 0.64, 'min_child_weight': 5, 'num_leaves': 119, 'min_child_samples': 68, 'min_split_gain': 0.02, 'subsample_freq': 3, 'feature_fraction': 0.62, 'bagging_fraction': 0.88, 'bagging_freq': 8}. Best is trial 0 with value: 0.9859558033645769.\n",
            "[I 2024-03-16 01:32:12,857] Trial 2 finished with value: 0.9398541619749482 and parameters: {'boosting_type': 'rf', 'max_depth': 7, 'learning_rate': 0.03, 'n_estimators': 664, 'subsample': 0.56, 'colsample_bytree': 0.58, 'reg_alpha': 0.84, 'reg_lambda': 0.0, 'min_child_weight': 3, 'num_leaves': 161, 'min_child_samples': 23, 'min_split_gain': 0.28, 'subsample_freq': 4, 'feature_fraction': 0.74, 'bagging_fraction': 0.66, 'bagging_freq': 10}. Best is trial 0 with value: 0.9859558033645769.\n",
            "[I 2024-03-16 01:32:13,258] Trial 3 finished with value: 0.9860574292229997 and parameters: {'boosting_type': 'gbdt', 'max_depth': 4, 'learning_rate': 0.09, 'n_estimators': 110, 'subsample': 0.66, 'colsample_bytree': 0.66, 'reg_alpha': 0.3, 'reg_lambda': 0.4, 'min_child_weight': 3, 'num_leaves': 215, 'min_child_samples': 42, 'min_split_gain': 0.3, 'subsample_freq': 5, 'feature_fraction': 0.54, 'bagging_fraction': 1.0, 'bagging_freq': 5}. Best is trial 3 with value: 0.9860574292229997.\n",
            "[I 2024-03-16 01:32:14,605] Trial 4 finished with value: 0.940769726573117 and parameters: {'boosting_type': 'rf', 'max_depth': 5, 'learning_rate': 0.19, 'n_estimators': 324, 'subsample': 0.66, 'colsample_bytree': 0.64, 'reg_alpha': 0.72, 'reg_lambda': 0.5, 'min_child_weight': 5, 'num_leaves': 130, 'min_child_samples': 15, 'min_split_gain': 0.38, 'subsample_freq': 2, 'feature_fraction': 0.58, 'bagging_fraction': 0.94, 'bagging_freq': 4}. Best is trial 3 with value: 0.9860574292229997.\n",
            "[I 2024-03-16 01:32:15,277] Trial 5 finished with value: 0.9406680489440074 and parameters: {'boosting_type': 'rf', 'max_depth': 10, 'learning_rate': 0.06999999999999999, 'n_estimators': 197, 'subsample': 0.6799999999999999, 'colsample_bytree': 0.8, 'reg_alpha': 0.78, 'reg_lambda': 0.64, 'min_child_weight': 9, 'num_leaves': 185, 'min_child_samples': 84, 'min_split_gain': 0.26, 'subsample_freq': 9, 'feature_fraction': 0.58, 'bagging_fraction': 0.8200000000000001, 'bagging_freq': 10}. Best is trial 3 with value: 0.9860574292229997.\n",
            "[I 2024-03-16 01:32:16,377] Trial 6 finished with value: 0.9849380952011162 and parameters: {'boosting_type': 'gbdt', 'max_depth': 6, 'learning_rate': 0.09, 'n_estimators': 470, 'subsample': 0.88, 'colsample_bytree': 0.72, 'reg_alpha': 0.88, 'reg_lambda': 0.7000000000000001, 'min_child_weight': 1, 'num_leaves': 253, 'min_child_samples': 75, 'min_split_gain': 0.5, 'subsample_freq': 10, 'feature_fraction': 0.64, 'bagging_fraction': 0.66, 'bagging_freq': 9}. Best is trial 3 with value: 0.9860574292229997.\n",
            "[I 2024-03-16 01:32:17,332] Trial 7 finished with value: 0.9845307634364346 and parameters: {'boosting_type': 'gbdt', 'max_depth': 3, 'learning_rate': 0.17, 'n_estimators': 504, 'subsample': 0.78, 'colsample_bytree': 0.66, 'reg_alpha': 0.84, 'reg_lambda': 0.14, 'min_child_weight': 5, 'num_leaves': 54, 'min_child_samples': 27, 'min_split_gain': 0.42, 'subsample_freq': 2, 'feature_fraction': 0.7, 'bagging_fraction': 0.54, 'bagging_freq': 6}. Best is trial 3 with value: 0.9860574292229997.\n",
            "[I 2024-03-16 01:32:23,259] Trial 8 finished with value: 0.9815811285492042 and parameters: {'boosting_type': 'dart', 'max_depth': 8, 'learning_rate': 0.19, 'n_estimators': 293, 'subsample': 0.62, 'colsample_bytree': 0.9199999999999999, 'reg_alpha': 0.64, 'reg_lambda': 0.34, 'min_child_weight': 4, 'num_leaves': 216, 'min_child_samples': 76, 'min_split_gain': 0.5, 'subsample_freq': 7, 'feature_fraction': 0.9199999999999999, 'bagging_fraction': 0.74, 'bagging_freq': 4}. Best is trial 3 with value: 0.9860574292229997.\n",
            "[I 2024-03-16 01:32:24,225] Trial 9 finished with value: 0.9859557515938899 and parameters: {'boosting_type': 'gbdt', 'max_depth': 10, 'learning_rate': 0.05, 'n_estimators': 314, 'subsample': 0.8, 'colsample_bytree': 0.98, 'reg_alpha': 0.44, 'reg_lambda': 0.44, 'min_child_weight': 10, 'num_leaves': 244, 'min_child_samples': 50, 'min_split_gain': 0.5, 'subsample_freq': 8, 'feature_fraction': 0.72, 'bagging_fraction': 0.6799999999999999, 'bagging_freq': 8}. Best is trial 3 with value: 0.9860574292229997.\n"
          ]
        },
        {
          "name": "stdout",
          "output_type": "stream",
          "text": [
            "Precisión del clasificador: 0.986\n"
          ]
        }
      ],
      "source": [
        "clf_lgb = lbgclass(n_iter=10)"
      ]
    },
    {
      "cell_type": "code",
      "execution_count": null,
      "metadata": {
        "id": "QI2F2D0SmQfl"
      },
      "outputs": [],
      "source": [
        "def lgbreg(seed=42, data=data, n_iter=10, cv=5):\n",
        "        # Regresor\n",
        "        reg_lgb = lgb.LGBMRegressor(random_state=seed, n_jobs=-1, verbosity=-1)\n",
        "\n",
        "        # Agregamos la columna 'class' y dividimos en entrenamiento y prueba\n",
        "        data['class'] = clf_lgb.predict(data.drop(columns=['transactionRevenue']))\n",
        "        X = data.drop(columns=['transactionRevenue'])\n",
        "        y = data['transactionRevenue']\n",
        "        X_train, X_test, y_train, y_test = train_test_split(X, y, test_size=0.15, random_state=42)\n",
        "\n",
        "        # Creamos un random search para encontrar los mejores hiperparámetros\n",
        "        params = {\n",
        "                'boosting_type': ['gbdt', 'dart', 'rf'], # 'goss'\n",
        "                'max_depth': (3, 10),\n",
        "                'learning_rate': (0.01, 0.2),\n",
        "                'n_estimators': (100, 1000),\n",
        "                'subsample': (0.5, 1.0),\n",
        "                'colsample_bytree': (0.5, 1.0),\n",
        "                'reg_alpha': (0.0, 1.0),\n",
        "                'reg_lambda': (0.0, 1.0),\n",
        "                'min_child_weight': (1, 10),\n",
        "                'num_leaves': (31, 256),\n",
        "                'min_child_samples': (5, 100),\n",
        "                'min_split_gain': (0.0, 0.5),\n",
        "                'subsample_freq': (0, 10),\n",
        "                'feature_fraction': (0.5, 1.0),\n",
        "                'bagging_fraction': (0.5, 1.0),\n",
        "                'bagging_freq': (1, 10),\n",
        "                }\n",
        "\n",
        "        # Obtenemos los mejores hiperparámetros\n",
        "        search = optuna_search(\n",
        "                model=reg_lgb,\n",
        "                param_space=params,\n",
        "                X_train=X_train, y_train=y_train,\n",
        "                scoring='neg_mean_squared_error',\n",
        "                cv=cv,\n",
        "                n_iter=n_iter)\n",
        "        best_params = search.best_params\n",
        "\n",
        "        # Entrenamos el regresor\n",
        "        reg_lgb = lgb.LGBMRegressor(**best_params, random_state=seed, n_jobs=-1, verbosity=-1)\n",
        "        reg_lgb.fit(X_train, y_train, eval_set=[(X_test, y_test)])\n",
        "\n",
        "        # Predecimos con el regresor\n",
        "        y_pred_reg_lgb = reg_lgb.predict(X_test)\n",
        "\n",
        "        # Convertimos todas las predicciones menores a 0.01 en 0\n",
        "        y_pred_reg_lgb = np.where(y_pred_reg_lgb < 0.01, 0, y_pred_reg_lgb)\n",
        "\n",
        "        # Score del regresor para rmse\n",
        "        print(f'Raiz del error para el regresor: {np.sqrt(mean_squared_error(y_test, y_pred_reg_lgb)):.3f}')\n",
        "\n",
        "        return reg_lgb, y_pred_reg_lgb, np.sqrt(mean_squared_error(y_test, y_pred_reg_lgb)), r2_adj(X_test, y_test, y_pred_reg_lgb)"
      ]
    },
    {
      "cell_type": "code",
      "execution_count": null,
      "metadata": {
        "colab": {
          "base_uri": "https://localhost:8080/"
        },
        "id": "jDRqBMWumQfm",
        "outputId": "ce96a499-916b-4140-b00b-ef25fe21294f"
      },
      "outputs": [
        {
          "name": "stderr",
          "output_type": "stream",
          "text": [
            "[I 2024-03-16 01:32:24,417] A new study created in memory with name: no-name-e00707ac-a8eb-4240-ac5b-c98d572eb311\n",
            "[I 2024-03-16 01:32:28,067] Trial 0 finished with value: -419.8580481444951 and parameters: {'boosting_type': 'gbdt', 'max_depth': 5, 'learning_rate': 0.03, 'n_estimators': 711, 'subsample': 0.9199999999999999, 'colsample_bytree': 0.88, 'reg_alpha': 0.44, 'reg_lambda': 0.54, 'min_child_weight': 9, 'num_leaves': 125, 'min_child_samples': 34, 'min_split_gain': 0.12, 'subsample_freq': 0, 'feature_fraction': 0.8200000000000001, 'bagging_fraction': 0.74, 'bagging_freq': 6}. Best is trial 0 with value: -419.8580481444951.\n",
            "[I 2024-03-16 01:34:43,695] Trial 1 finished with value: -422.05485629987925 and parameters: {'boosting_type': 'dart', 'max_depth': 10, 'learning_rate': 0.11, 'n_estimators': 861, 'subsample': 0.9199999999999999, 'colsample_bytree': 0.88, 'reg_alpha': 0.0, 'reg_lambda': 0.76, 'min_child_weight': 1, 'num_leaves': 163, 'min_child_samples': 55, 'min_split_gain': 0.32, 'subsample_freq': 3, 'feature_fraction': 0.64, 'bagging_fraction': 0.66, 'bagging_freq': 8}. Best is trial 0 with value: -419.8580481444951.\n",
            "[I 2024-03-16 01:34:47,691] Trial 2 finished with value: -433.678406857866 and parameters: {'boosting_type': 'dart', 'max_depth': 7, 'learning_rate': 0.03, 'n_estimators': 110, 'subsample': 0.7, 'colsample_bytree': 0.62, 'reg_alpha': 0.36, 'reg_lambda': 0.14, 'min_child_weight': 1, 'num_leaves': 56, 'min_child_samples': 81, 'min_split_gain': 0.4, 'subsample_freq': 5, 'feature_fraction': 0.62, 'bagging_fraction': 0.54, 'bagging_freq': 4}. Best is trial 0 with value: -419.8580481444951.\n",
            "[I 2024-03-16 01:36:30,289] Trial 3 finished with value: -415.20160677287487 and parameters: {'boosting_type': 'dart', 'max_depth': 9, 'learning_rate': 0.15000000000000002, 'n_estimators': 803, 'subsample': 0.96, 'colsample_bytree': 0.8, 'reg_alpha': 0.58, 'reg_lambda': 0.68, 'min_child_weight': 10, 'num_leaves': 233, 'min_child_samples': 100, 'min_split_gain': 0.02, 'subsample_freq': 1, 'feature_fraction': 0.5, 'bagging_fraction': 0.54, 'bagging_freq': 7}. Best is trial 3 with value: -415.20160677287487.\n",
            "[I 2024-03-16 01:36:39,018] Trial 4 finished with value: -411.71325175234125 and parameters: {'boosting_type': 'gbdt', 'max_depth': 7, 'learning_rate': 0.01, 'n_estimators': 994, 'subsample': 0.9199999999999999, 'colsample_bytree': 0.5, 'reg_alpha': 0.48, 'reg_lambda': 0.2, 'min_child_weight': 6, 'num_leaves': 139, 'min_child_samples': 91, 'min_split_gain': 0.06, 'subsample_freq': 10, 'feature_fraction': 0.76, 'bagging_fraction': 0.78, 'bagging_freq': 8}. Best is trial 4 with value: -411.71325175234125.\n",
            "[I 2024-03-16 01:37:54,108] Trial 5 finished with value: -417.5057087729656 and parameters: {'boosting_type': 'dart', 'max_depth': 8, 'learning_rate': 0.03, 'n_estimators': 666, 'subsample': 0.8200000000000001, 'colsample_bytree': 0.58, 'reg_alpha': 0.12, 'reg_lambda': 0.26, 'min_child_weight': 8, 'num_leaves': 130, 'min_child_samples': 98, 'min_split_gain': 0.38, 'subsample_freq': 1, 'feature_fraction': 0.76, 'bagging_fraction': 0.98, 'bagging_freq': 5}. Best is trial 4 with value: -411.71325175234125.\n",
            "[I 2024-03-16 01:37:54,721] Trial 6 finished with value: -410.50299655799756 and parameters: {'boosting_type': 'gbdt', 'max_depth': 6, 'learning_rate': 0.19, 'n_estimators': 108, 'subsample': 0.58, 'colsample_bytree': 0.58, 'reg_alpha': 0.16, 'reg_lambda': 0.9, 'min_child_weight': 1, 'num_leaves': 216, 'min_child_samples': 77, 'min_split_gain': 0.12, 'subsample_freq': 1, 'feature_fraction': 0.96, 'bagging_fraction': 0.64, 'bagging_freq': 8}. Best is trial 6 with value: -410.50299655799756.\n",
            "[I 2024-03-16 01:38:01,120] Trial 7 finished with value: -448.58933951533544 and parameters: {'boosting_type': 'gbdt', 'max_depth': 4, 'learning_rate': 0.09, 'n_estimators': 599, 'subsample': 0.94, 'colsample_bytree': 0.56, 'reg_alpha': 0.84, 'reg_lambda': 0.8200000000000001, 'min_child_weight': 5, 'num_leaves': 139, 'min_child_samples': 19, 'min_split_gain': 0.2, 'subsample_freq': 4, 'feature_fraction': 0.5, 'bagging_fraction': 0.62, 'bagging_freq': 2}. Best is trial 6 with value: -410.50299655799756.\n",
            "[I 2024-03-16 01:38:05,006] Trial 8 finished with value: -430.59418769392505 and parameters: {'boosting_type': 'rf', 'max_depth': 10, 'learning_rate': 0.11, 'n_estimators': 533, 'subsample': 0.7, 'colsample_bytree': 0.8, 'reg_alpha': 0.8200000000000001, 'reg_lambda': 0.62, 'min_child_weight': 5, 'num_leaves': 249, 'min_child_samples': 98, 'min_split_gain': 0.14, 'subsample_freq': 7, 'feature_fraction': 0.5, 'bagging_fraction': 0.96, 'bagging_freq': 4}. Best is trial 6 with value: -410.50299655799756.\n",
            "[I 2024-03-16 01:38:31,257] Trial 9 finished with value: -416.12426178708864 and parameters: {'boosting_type': 'dart', 'max_depth': 6, 'learning_rate': 0.13, 'n_estimators': 401, 'subsample': 0.86, 'colsample_bytree': 0.62, 'reg_alpha': 0.42, 'reg_lambda': 0.06, 'min_child_weight': 4, 'num_leaves': 55, 'min_child_samples': 97, 'min_split_gain': 0.24, 'subsample_freq': 0, 'feature_fraction': 0.52, 'bagging_fraction': 0.78, 'bagging_freq': 5}. Best is trial 6 with value: -410.50299655799756.\n"
          ]
        },
        {
          "name": "stdout",
          "output_type": "stream",
          "text": [
            "Raiz del error para el regresor: 16.048\n"
          ]
        }
      ],
      "source": [
        "reg_lgb, reg_lgb_pred, lgb_rmse, lgb_r2_adj = lgbreg(n_iter=10)"
      ]
    },
    {
      "cell_type": "code",
      "execution_count": null,
      "metadata": {
        "colab": {
          "base_uri": "https://localhost:8080/",
          "height": 447
        },
        "id": "IPExZBbsmQfl",
        "outputId": "0a08922c-76d2-4910-8d26-359bd921cf1e"
      },
      "outputs": [
        {
          "data": {
            "text/plain": [
              "<Axes: >"
            ]
          },
          "execution_count": 117,
          "metadata": {},
          "output_type": "execute_result"
        },
        {
          "data": {
            "image/png": "[encoded data removed]",
            "text/plain": [
              "<Figure size 640x480 with 1 Axes>"
            ]
          },
          "metadata": {},
          "output_type": "display_data"
        }
      ],
      "source": [
        "# feature importance\n",
        "sns.barplot(x = list(reg_lgb.feature_importances_), y = list(reg_lgb.feature_name_))"
      ]
    },
    {
      "cell_type": "code",
      "execution_count": null,
      "metadata": {
        "colab": {
          "base_uri": "https://localhost:8080/"
        },
        "id": "l5CH7TUYmQfm",
        "outputId": "1b8cdbc4-d32a-422a-c4f4-460b3ac656e3"
      },
      "outputs": [
        {
          "name": "stdout",
          "output_type": "stream",
          "text": [
            "Resultados:\n",
            "Los hiperparámetros son: {'boosting_type': 'gbdt', 'class_weight': None, 'colsample_bytree': 0.58, 'importance_type': 'split', 'learning_rate': 0.19, 'max_depth': 6, 'min_child_samples': 77, 'min_child_weight': 1, 'min_split_gain': 0.12, 'n_estimators': 108, 'n_jobs': -1, 'num_leaves': 216, 'objective': None, 'random_state': 42, 'reg_alpha': 0.16, 'reg_lambda': 0.9, 'subsample': 0.58, 'subsample_for_bin': 200000, 'subsample_freq': 1, 'feature_fraction': 0.96, 'bagging_fraction': 0.64, 'bagging_freq': 8, 'verbosity': -1}\n",
            "El rmse es: 16.05\n",
            "El r2 es: 0.07\n"
          ]
        }
      ],
      "source": [
        "print('Resultados:')\n",
        "\n",
        "print(f'Los hiperparámetros son: {reg_lgb.get_params()}')\n",
        "print(f'El rmse es: {lgb_rmse:.2f}')\n",
        "print(f'El r2 es: {lgb_r2_adj:.2f}')"
      ]
    },
    {
      "cell_type": "code",
      "execution_count": null,
      "metadata": {
        "id": "jolOFVnXmQfm"
      },
      "outputs": [],
      "source": [
        "# # Guardamos el modelo LGBM\n",
        "# dump(clf_lgb, 'clasificador_lgb.joblib')\n",
        "# dump(reg_lgb, 'regresor_lgb.joblib')"
      ]
    },
    {
      "cell_type": "code",
      "execution_count": null,
      "metadata": {},
      "outputs": [],
      "source": [
        "# INGENIERIA\n",
        "# dejaré solo las variables que aportan valor\n"
      ]
    },
    {
      "cell_type": "markdown",
      "metadata": {
        "id": "Qd8q4FRLmQfm"
      },
      "source": [
        "### Modelo CatBoost"
      ]
    },
    {
      "cell_type": "code",
      "execution_count": null,
      "metadata": {
        "id": "A8HL_7c_mQfm"
      },
      "outputs": [],
      "source": [
        "data = df.copy()"
      ]
    },
    {
      "cell_type": "code",
      "execution_count": null,
      "metadata": {
        "id": "4tWflKPemQfm"
      },
      "outputs": [],
      "source": [
        "def catclass(seed=42, data=data, n_iter=10, cv=5):\n",
        "        # Clasificador\n",
        "        clf_cat = cat.CatBoostClassifier(random_state=seed, verbose=0)\n",
        "\n",
        "        # Dividimos en entrenamiento y prueba\n",
        "        X = data.drop('transactionRevenue', axis=1)\n",
        "        y = data['transactionRevenue'].apply(lambda x: 1 if x > 0 else 0)\n",
        "        X_train, X_test, y_train, y_test = train_test_split(X, y, test_size=0.25, random_state=42)\n",
        "\n",
        "        # Creamos un random search para encontrar los mejores hiperparámetros\n",
        "        params = {\n",
        "                'depth': (3, 10),\n",
        "                'learning_rate': (0.01, 0.2),\n",
        "                'n_estimators': (100, 1000),\n",
        "                'l2_leaf_reg': (0.0, 1.0),\n",
        "                'border_count': (32, 255),\n",
        "                'thread_count': (1, 10),\n",
        "                'random_strength': (0.0, 1.0),\n",
        "                'bagging_temperature': (0.0, 1.0),\n",
        "                'max_ctr_complexity': (1, 5),\n",
        "                }\n",
        "\n",
        "        # Obtenemos los mejores hiperparámetros\n",
        "        search = optuna_search(\n",
        "                model=clf_cat,\n",
        "                param_space=params,\n",
        "                X_train=X_train, y_train=y_train,\n",
        "                scoring='accuracy',\n",
        "                cv=5,\n",
        "                n_iter=20)\n",
        "        best_params = search.best_params\n",
        "\n",
        "        # Entrenamos el clasificador\n",
        "        clf_cat = cat.CatBoostClassifier(**best_params, verbose=0, random_state=seed)\n",
        "        clf_cat.fit(X_train, y_train, eval_set=(X_test, y_test), early_stopping_rounds=20)\n",
        "\n",
        "        # Predecimos con el clasificador\n",
        "        y_pred_cls_lgb = clf_cat.predict(X_test)\n",
        "\n",
        "        # Score del clasificador\n",
        "        print(f'Precisión del clasificador: {accuracy_score(y_test, y_pred_cls_lgb):.3f}')\n",
        "\n",
        "        return clf_cat"
      ]
    },
    {
      "cell_type": "code",
      "execution_count": null,
      "metadata": {
        "colab": {
          "base_uri": "https://localhost:8080/"
        },
        "id": "rdQ9Ah3ymQfm",
        "outputId": "da0b1e66-46eb-4123-c218-d869edaf5a27"
      },
      "outputs": [
        {
          "name": "stderr",
          "output_type": "stream",
          "text": [
            "[I 2024-03-16 01:39:29,339] A new study created in memory with name: no-name-8b6594a8-155b-4986-936d-6061cc086b3e\n",
            "[I 2024-03-16 01:39:53,665] Trial 0 finished with value: 0.9842597780256073 and parameters: {'depth': 10, 'learning_rate': 0.15000000000000002, 'n_estimators': 706, 'l2_leaf_reg': 0.84, 'border_count': 126, 'thread_count': 4, 'random_strength': 0.58, 'bagging_temperature': 0.88, 'max_ctr_complexity': 2}. Best is trial 0 with value: 0.9842597780256073.\n",
            "[I 2024-03-16 01:40:03,256] Trial 1 finished with value: 0.9849111849101245 and parameters: {'depth': 9, 'learning_rate': 0.19, 'n_estimators': 404, 'l2_leaf_reg': 0.2, 'border_count': 113, 'thread_count': 2, 'random_strength': 0.66, 'bagging_temperature': 0.76, 'max_ctr_complexity': 2}. Best is trial 1 with value: 0.9849111849101245.\n",
            "[I 2024-03-16 01:40:29,948] Trial 2 finished with value: 0.9853452597880409 and parameters: {'depth': 10, 'learning_rate': 0.05, 'n_estimators': 752, 'l2_leaf_reg': 0.28, 'border_count': 74, 'thread_count': 8, 'random_strength': 1.0, 'bagging_temperature': 0.46, 'max_ctr_complexity': 4}. Best is trial 2 with value: 0.9853452597880409.\n",
            "[I 2024-03-16 01:40:40,415] Trial 3 finished with value: 0.9830655418895807 and parameters: {'depth': 4, 'learning_rate': 0.06999999999999999, 'n_estimators': 765, 'l2_leaf_reg': 0.2, 'border_count': 254, 'thread_count': 5, 'random_strength': 0.78, 'bagging_temperature': 0.0, 'max_ctr_complexity': 1}. Best is trial 2 with value: 0.9853452597880409.\n",
            "[I 2024-03-16 01:40:53,312] Trial 4 finished with value: 0.9826313491846073 and parameters: {'depth': 4, 'learning_rate': 0.09, 'n_estimators': 967, 'l2_leaf_reg': 0.3, 'border_count': 217, 'thread_count': 9, 'random_strength': 0.9400000000000001, 'bagging_temperature': 0.84, 'max_ctr_complexity': 5}. Best is trial 2 with value: 0.9853452597880409.\n",
            "[I 2024-03-16 01:41:03,613] Trial 5 finished with value: 0.9842595423714935 and parameters: {'depth': 9, 'learning_rate': 0.17, 'n_estimators': 404, 'l2_leaf_reg': 0.76, 'border_count': 49, 'thread_count': 8, 'random_strength': 0.66, 'bagging_temperature': 0.52, 'max_ctr_complexity': 4}. Best is trial 2 with value: 0.9853452597880409.\n",
            "[I 2024-03-16 01:41:17,114] Trial 6 finished with value: 0.9829569642565732 and parameters: {'depth': 5, 'learning_rate': 0.06999999999999999, 'n_estimators': 944, 'l2_leaf_reg': 0.84, 'border_count': 152, 'thread_count': 9, 'random_strength': 0.84, 'bagging_temperature': 0.58, 'max_ctr_complexity': 2}. Best is trial 2 with value: 0.9853452597880409.\n",
            "[I 2024-03-16 01:41:35,864] Trial 7 finished with value: 0.9845852752705163 and parameters: {'depth': 10, 'learning_rate': 0.13, 'n_estimators': 639, 'l2_leaf_reg': 0.36, 'border_count': 250, 'thread_count': 6, 'random_strength': 0.8200000000000001, 'bagging_temperature': 0.16, 'max_ctr_complexity': 1}. Best is trial 2 with value: 0.9853452597880409.\n",
            "[I 2024-03-16 01:41:56,269] Trial 8 finished with value: 0.984802607277117 and parameters: {'depth': 9, 'learning_rate': 0.06999999999999999, 'n_estimators': 826, 'l2_leaf_reg': 0.86, 'border_count': 176, 'thread_count': 2, 'random_strength': 0.7000000000000001, 'bagging_temperature': 0.66, 'max_ctr_complexity': 2}. Best is trial 2 with value: 0.9853452597880409.\n",
            "[I 2024-03-16 01:42:06,998] Trial 9 finished with value: 0.985888030126022 and parameters: {'depth': 8, 'learning_rate': 0.03, 'n_estimators': 511, 'l2_leaf_reg': 0.9400000000000001, 'border_count': 200, 'thread_count': 7, 'random_strength': 0.08, 'bagging_temperature': 0.0, 'max_ctr_complexity': 1}. Best is trial 9 with value: 0.985888030126022.\n",
            "[I 2024-03-16 01:42:09,335] Trial 10 finished with value: 0.9859964899319726 and parameters: {'depth': 7, 'learning_rate': 0.03, 'n_estimators': 134, 'l2_leaf_reg': 0.54, 'border_count': 191, 'thread_count': 6, 'random_strength': 0.02, 'bagging_temperature': 0.3, 'max_ctr_complexity': 3}. Best is trial 10 with value: 0.9859964899319726.\n",
            "[I 2024-03-16 01:42:11,333] Trial 11 finished with value: 0.9858879122989649 and parameters: {'depth': 7, 'learning_rate': 0.01, 'n_estimators': 108, 'l2_leaf_reg': 0.58, 'border_count': 187, 'thread_count': 6, 'random_strength': 0.0, 'bagging_temperature': 0.28, 'max_ctr_complexity': 3}. Best is trial 10 with value: 0.9859964899319726.\n",
            "[I 2024-03-16 01:42:13,256] Trial 12 finished with value: 0.9859966077590295 and parameters: {'depth': 7, 'learning_rate': 0.01, 'n_estimators': 103, 'l2_leaf_reg': 0.56, 'border_count': 204, 'thread_count': 7, 'random_strength': 0.02, 'bagging_temperature': 0.0, 'max_ctr_complexity': 3}. Best is trial 12 with value: 0.9859966077590295.\n",
            "[I 2024-03-16 01:42:15,853] Trial 13 finished with value: 0.9857795114065429 and parameters: {'depth': 6, 'learning_rate': 0.01, 'n_estimators': 143, 'l2_leaf_reg': 0.56, 'border_count': 222, 'thread_count': 4, 'random_strength': 0.24, 'bagging_temperature': 0.3, 'max_ctr_complexity': 3}. Best is trial 12 with value: 0.9859966077590295.\n",
            "[I 2024-03-16 01:42:20,376] Trial 14 finished with value: 0.9852367999820902 and parameters: {'depth': 7, 'learning_rate': 0.03, 'n_estimators': 229, 'l2_leaf_reg': 0.04, 'border_count': 153, 'thread_count': 10, 'random_strength': 0.34, 'bagging_temperature': 0.18, 'max_ctr_complexity': 4}. Best is trial 12 with value: 0.9859966077590295.\n",
            "[I 2024-03-16 01:42:24,742] Trial 15 finished with value: 0.9834997345945542 and parameters: {'depth': 6, 'learning_rate': 0.11, 'n_estimators': 294, 'l2_leaf_reg': 0.66, 'border_count': 171, 'thread_count': 4, 'random_strength': 0.2, 'bagging_temperature': 0.34, 'max_ctr_complexity': 3}. Best is trial 12 with value: 0.9859966077590295.\n",
            "[I 2024-03-16 01:42:27,928] Trial 16 finished with value: 0.98610506756498 and parameters: {'depth': 3, 'learning_rate': 0.03, 'n_estimators': 244, 'l2_leaf_reg': 0.4, 'border_count': 211, 'thread_count': 7, 'random_strength': 0.42, 'bagging_temperature': 0.12, 'max_ctr_complexity': 5}. Best is trial 16 with value: 0.98610506756498.\n",
            "[I 2024-03-16 01:42:32,016] Trial 17 finished with value: 0.9862137630250448 and parameters: {'depth': 3, 'learning_rate': 0.01, 'n_estimators': 252, 'l2_leaf_reg': 0.44, 'border_count': 218, 'thread_count': 7, 'random_strength': 0.44, 'bagging_temperature': 0.12, 'max_ctr_complexity': 5}. Best is trial 17 with value: 0.9862137630250448.\n",
            "[I 2024-03-16 01:42:36,195] Trial 18 finished with value: 0.9849107725154249 and parameters: {'depth': 3, 'learning_rate': 0.05, 'n_estimators': 352, 'l2_leaf_reg': 0.42, 'border_count': 230, 'thread_count': 8, 'random_strength': 0.46, 'bagging_temperature': 0.12, 'max_ctr_complexity': 5}. Best is trial 17 with value: 0.9862137630250448.\n",
            "[I 2024-03-16 01:42:38,619] Trial 19 finished with value: 0.9844765798104514 and parameters: {'depth': 3, 'learning_rate': 0.11, 'n_estimators': 253, 'l2_leaf_reg': 0.44, 'border_count': 105, 'thread_count': 1, 'random_strength': 0.44, 'bagging_temperature': 0.42, 'max_ctr_complexity': 5}. Best is trial 17 with value: 0.9862137630250448.\n"
          ]
        },
        {
          "name": "stdout",
          "output_type": "stream",
          "text": [
            "Precisión del clasificador: 0.987\n"
          ]
        }
      ],
      "source": [
        "clf_cat = catclass()"
      ]
    },
    {
      "cell_type": "code",
      "execution_count": null,
      "metadata": {
        "id": "OgGUdTfkmQfn"
      },
      "outputs": [],
      "source": [
        "def catreg(seed=42, data=data, n_iter=10, cv=5):\n",
        "        # Regresor\n",
        "        reg_cat = cat.CatBoostRegressor(random_state=seed, verbose=0)\n",
        "\n",
        "        # Agregamos la columna 'class' y dividimos en entrenamiento y prueba\n",
        "        data['class'] = clf_cat.predict(data.drop(columns=['transactionRevenue']))\n",
        "        X = data.drop(columns=['transactionRevenue'])\n",
        "        y = data['transactionRevenue']\n",
        "        X_train, X_test, y_train, y_test = train_test_split(X, y, test_size=0.25, random_state=42)\n",
        "\n",
        "        # Creamos un random search para encontrar los mejores hiperparámetros\n",
        "        params = {\n",
        "                'depth': (3, 10),\n",
        "                'learning_rate': (0.01, 0.2),\n",
        "                'n_estimators': (100, 1000),\n",
        "                'l2_leaf_reg': (0.0, 1.0),\n",
        "                'border_count': (32, 255),\n",
        "                'thread_count': (1, 10),\n",
        "                'random_strength': (0.0, 1.0),\n",
        "                'bagging_temperature': (0.0, 1.0),\n",
        "                'max_ctr_complexity': (1, 5),\n",
        "                }\n",
        "\n",
        "        # Obtenemos los mejores hiperparámetros\n",
        "        search = optuna_search(\n",
        "                model=reg_cat,\n",
        "                param_space=params,\n",
        "                X_train=X_train, y_train=y_train,\n",
        "                scoring='neg_mean_squared_error',\n",
        "                cv=5,\n",
        "                n_iter=20)\n",
        "        best_params = search.best_params\n",
        "\n",
        "        # Entrenamos el regresor\n",
        "        reg_cat = cat.CatBoostRegressor(**best_params, random_state=seed, verbose=0)\n",
        "        reg_cat.fit(X_train, y_train, eval_set=(X_test, y_test), early_stopping_rounds=10, verbose=0)\n",
        "\n",
        "        # Predecimos con el regresor\n",
        "        y_pred_reg_cat = reg_cat.predict(X_test)\n",
        "\n",
        "        # Convertimos todas las predicciones menores a 0.01 en 0\n",
        "        y_pred_reg_cat = np.where(y_pred_reg_cat < 0.01, 0, y_pred_reg_cat)\n",
        "\n",
        "        # Score del regresor para rmse\n",
        "        print(f'Raiz del error para el regresor: {np.sqrt(mean_squared_error(y_test, y_pred_reg_cat)):.3f}')\n",
        "\n",
        "        return reg_cat, y_pred_reg_cat, np.sqrt(mean_squared_error(y_test, y_pred_reg_cat)), r2_adj(X_test, y_test, y_pred_reg_cat)"
      ]
    },
    {
      "cell_type": "code",
      "execution_count": null,
      "metadata": {
        "colab": {
          "base_uri": "https://localhost:8080/"
        },
        "id": "_d9xrhJemQfn",
        "outputId": "b9f950f8-53cd-4a70-c667-c5dbb7bc42e4"
      },
      "outputs": [
        {
          "name": "stderr",
          "output_type": "stream",
          "text": [
            "[I 2024-03-16 01:42:39,455] A new study created in memory with name: no-name-5339536a-7396-4310-ad17-6619933edcb2\n",
            "[I 2024-03-16 01:43:11,726] Trial 0 finished with value: -476.22205352192975 and parameters: {'depth': 10, 'learning_rate': 0.19, 'n_estimators': 988, 'l2_leaf_reg': 0.52, 'border_count': 229, 'thread_count': 4, 'random_strength': 0.34, 'bagging_temperature': 0.04, 'max_ctr_complexity': 5}. Best is trial 0 with value: -476.22205352192975.\n",
            "[I 2024-03-16 01:43:15,394] Trial 1 finished with value: -488.9897542851503 and parameters: {'depth': 9, 'learning_rate': 0.15000000000000002, 'n_estimators': 152, 'l2_leaf_reg': 0.52, 'border_count': 240, 'thread_count': 6, 'random_strength': 0.8200000000000001, 'bagging_temperature': 0.78, 'max_ctr_complexity': 1}. Best is trial 0 with value: -476.22205352192975.\n",
            "[I 2024-03-16 01:43:19,535] Trial 2 finished with value: -611.1522155855282 and parameters: {'depth': 4, 'learning_rate': 0.17, 'n_estimators': 348, 'l2_leaf_reg': 0.26, 'border_count': 45, 'thread_count': 2, 'random_strength': 0.48, 'bagging_temperature': 0.76, 'max_ctr_complexity': 1}. Best is trial 0 with value: -476.22205352192975.\n",
            "[I 2024-03-16 01:43:32,302] Trial 3 finished with value: -491.2279349810724 and parameters: {'depth': 8, 'learning_rate': 0.19, 'n_estimators': 868, 'l2_leaf_reg': 0.96, 'border_count': 247, 'thread_count': 5, 'random_strength': 0.22, 'bagging_temperature': 1.0, 'max_ctr_complexity': 5}. Best is trial 0 with value: -476.22205352192975.\n",
            "[I 2024-03-16 01:43:34,532] Trial 4 finished with value: -556.1276864709531 and parameters: {'depth': 6, 'learning_rate': 0.15000000000000002, 'n_estimators': 243, 'l2_leaf_reg': 0.88, 'border_count': 198, 'thread_count': 4, 'random_strength': 0.8, 'bagging_temperature': 0.76, 'max_ctr_complexity': 2}. Best is trial 0 with value: -476.22205352192975.\n",
            "[I 2024-03-16 01:43:40,734] Trial 5 finished with value: -486.2729438144464 and parameters: {'depth': 5, 'learning_rate': 0.01, 'n_estimators': 837, 'l2_leaf_reg': 0.86, 'border_count': 112, 'thread_count': 10, 'random_strength': 0.92, 'bagging_temperature': 0.36, 'max_ctr_complexity': 4}. Best is trial 0 with value: -476.22205352192975.\n",
            "[I 2024-03-16 01:43:47,571] Trial 6 finished with value: -472.3483519606169 and parameters: {'depth': 9, 'learning_rate': 0.05, 'n_estimators': 301, 'l2_leaf_reg': 0.92, 'border_count': 68, 'thread_count': 2, 'random_strength': 0.22, 'bagging_temperature': 0.76, 'max_ctr_complexity': 5}. Best is trial 6 with value: -472.3483519606169.\n",
            "[I 2024-03-16 01:43:49,798] Trial 7 finished with value: -524.6999843877293 and parameters: {'depth': 8, 'learning_rate': 0.19, 'n_estimators': 159, 'l2_leaf_reg': 0.22, 'border_count': 199, 'thread_count': 2, 'random_strength': 0.0, 'bagging_temperature': 0.2, 'max_ctr_complexity': 1}. Best is trial 6 with value: -472.3483519606169.\n",
            "[I 2024-03-16 01:43:52,490] Trial 8 finished with value: -541.7142867100914 and parameters: {'depth': 6, 'learning_rate': 0.06999999999999999, 'n_estimators': 303, 'l2_leaf_reg': 0.78, 'border_count': 255, 'thread_count': 4, 'random_strength': 0.9, 'bagging_temperature': 1.0, 'max_ctr_complexity': 2}. Best is trial 6 with value: -472.3483519606169.\n",
            "[I 2024-03-16 01:43:59,917] Trial 9 finished with value: -464.24808646001094 and parameters: {'depth': 9, 'learning_rate': 0.03, 'n_estimators': 330, 'l2_leaf_reg': 0.56, 'border_count': 181, 'thread_count': 5, 'random_strength': 0.9400000000000001, 'bagging_temperature': 0.38, 'max_ctr_complexity': 1}. Best is trial 9 with value: -464.24808646001094.\n",
            "[I 2024-03-16 01:44:03,046] Trial 10 finished with value: -466.505956309648 and parameters: {'depth': 3, 'learning_rate': 0.01, 'n_estimators': 534, 'l2_leaf_reg': 0.02, 'border_count': 147, 'thread_count': 8, 'random_strength': 0.66, 'bagging_temperature': 0.44, 'max_ctr_complexity': 3}. Best is trial 9 with value: -464.24808646001094.\n",
            "[I 2024-03-16 01:44:06,242] Trial 11 finished with value: -467.1395937228638 and parameters: {'depth': 3, 'learning_rate': 0.01, 'n_estimators': 544, 'l2_leaf_reg': 0.04, 'border_count': 147, 'thread_count': 8, 'random_strength': 0.64, 'bagging_temperature': 0.48, 'max_ctr_complexity': 3}. Best is trial 9 with value: -464.24808646001094.\n",
            "[I 2024-03-16 01:44:13,205] Trial 12 finished with value: -511.1814928875654 and parameters: {'depth': 7, 'learning_rate': 0.05, 'n_estimators': 537, 'l2_leaf_reg': 0.68, 'border_count': 142, 'thread_count': 7, 'random_strength': 0.64, 'bagging_temperature': 0.36, 'max_ctr_complexity': 3}. Best is trial 9 with value: -464.24808646001094.\n",
            "[I 2024-03-16 01:44:15,782] Trial 13 finished with value: -585.4451365259622 and parameters: {'depth': 3, 'learning_rate': 0.09, 'n_estimators': 442, 'l2_leaf_reg': 0.34, 'border_count': 166, 'thread_count': 9, 'random_strength': 1.0, 'bagging_temperature': 0.5, 'max_ctr_complexity': 2}. Best is trial 9 with value: -464.24808646001094.\n",
            "[I 2024-03-16 01:44:37,078] Trial 14 finished with value: -452.8509168671535 and parameters: {'depth': 10, 'learning_rate': 0.03, 'n_estimators': 680, 'l2_leaf_reg': 0.0, 'border_count': 105, 'thread_count': 7, 'random_strength': 0.68, 'bagging_temperature': 0.26, 'max_ctr_complexity': 4}. Best is trial 14 with value: -452.8509168671535.\n",
            "[I 2024-03-16 01:44:57,453] Trial 15 finished with value: -463.33427155881935 and parameters: {'depth': 10, 'learning_rate': 0.05, 'n_estimators': 673, 'l2_leaf_reg': 0.66, 'border_count': 95, 'thread_count': 6, 'random_strength': 0.72, 'bagging_temperature': 0.22, 'max_ctr_complexity': 4}. Best is trial 14 with value: -452.8509168671535.\n",
            "[I 2024-03-16 01:45:20,566] Trial 16 finished with value: -481.8736665114817 and parameters: {'depth': 10, 'learning_rate': 0.11, 'n_estimators': 696, 'l2_leaf_reg': 0.68, 'border_count': 93, 'thread_count': 7, 'random_strength': 0.48, 'bagging_temperature': 0.18, 'max_ctr_complexity': 4}. Best is trial 14 with value: -452.8509168671535.\n",
            "[I 2024-03-16 01:45:43,039] Trial 17 finished with value: -467.7025583367696 and parameters: {'depth': 10, 'learning_rate': 0.09, 'n_estimators': 706, 'l2_leaf_reg': 0.42, 'border_count': 114, 'thread_count': 6, 'random_strength': 0.72, 'bagging_temperature': 0.0, 'max_ctr_complexity': 4}. Best is trial 14 with value: -452.8509168671535.\n",
            "[I 2024-03-16 01:45:53,443] Trial 18 finished with value: -500.2979346290675 and parameters: {'depth': 8, 'learning_rate': 0.05, 'n_estimators': 681, 'l2_leaf_reg': 0.18, 'border_count': 78, 'thread_count': 10, 'random_strength': 0.54, 'bagging_temperature': 0.22, 'max_ctr_complexity': 4}. Best is trial 14 with value: -452.8509168671535.\n",
            "[I 2024-03-16 01:46:02,830] Trial 19 finished with value: -525.1484105495203 and parameters: {'depth': 7, 'learning_rate': 0.11, 'n_estimators': 801, 'l2_leaf_reg': 0.66, 'border_count': 38, 'thread_count': 7, 'random_strength': 0.8, 'bagging_temperature': 0.62, 'max_ctr_complexity': 4}. Best is trial 14 with value: -452.8509168671535.\n"
          ]
        },
        {
          "name": "stdout",
          "output_type": "stream",
          "text": [
            "Raiz del error para el regresor: 17.908\n"
          ]
        }
      ],
      "source": [
        "reg_cat, reg_cat_pred, cat_rmse, cat_r2_adj = catreg()"
      ]
    },
    {
      "cell_type": "code",
      "execution_count": null,
      "metadata": {
        "colab": {
          "base_uri": "https://localhost:8080/"
        },
        "id": "Qy97qoYEmQfn",
        "outputId": "13e90702-363d-4317-b540-c3e0c1a3ba07"
      },
      "outputs": [
        {
          "name": "stdout",
          "output_type": "stream",
          "text": [
            "Resultados:\n",
            "Los hiperparámetros son: {'learning_rate': 0.03, 'depth': 10, 'l2_leaf_reg': 0.0, 'loss_function': 'RMSE', 'border_count': 105, 'thread_count': 7, 'verbose': 0, 'max_ctr_complexity': 4, 'random_strength': 0.68, 'bagging_temperature': 0.26, 'n_estimators': 680, 'random_state': 42}\n",
            "El rmse es: 17.91\n",
            "El r2 es: 0.10\n"
          ]
        }
      ],
      "source": [
        "print('Resultados:')\n",
        "\n",
        "print(f'Los hiperparámetros son: {reg_cat.get_params()}')\n",
        "print(f'El rmse es: {cat_rmse:.2f}')\n",
        "print(f'El r2 es: {cat_r2_adj:.2f}')"
      ]
    },
    {
      "cell_type": "code",
      "execution_count": null,
      "metadata": {
        "id": "tO6fliqqmQfn"
      },
      "outputs": [],
      "source": [
        "# # Guardamos el modelo CatBoost\n",
        "# dump(clf_cat, 'clasificador_cat.joblib')\n",
        "# dump(reg_cat, 'regresor_cat.joblib')"
      ]
    },
    {
      "cell_type": "markdown",
      "metadata": {
        "id": "Kgeh2o4WmQfn"
      },
      "source": [
        "### Modelo de Votacion"
      ]
    },
    {
      "cell_type": "code",
      "execution_count": null,
      "metadata": {
        "id": "wvU3WqXsmQfn"
      },
      "outputs": [],
      "source": [
        "data = df.copy()"
      ]
    },
    {
      "cell_type": "code",
      "execution_count": null,
      "metadata": {
        "id": "D1YLv8nemQfn"
      },
      "outputs": [],
      "source": [
        "def votclass(data=data):\n",
        "    # Dividimos en entrenamiento y prueba\n",
        "    X = data.drop('transactionRevenue', axis=1)\n",
        "    y = data['transactionRevenue'].apply(lambda x: 1 if x > 0 else 0)\n",
        "    X_train, X_test, y_train, y_test = train_test_split(X, y, test_size=0.25, random_state=42)\n",
        "\n",
        "    # Clasificador\n",
        "    clf = VotingClassifier(estimators=[('lgb', clf_lgb), ('cat', clf_cat)], voting='soft', n_jobs=-1)\n",
        "\n",
        "    # Entrenamos el clasificador\n",
        "    clf.fit(X_train, y_train)\n",
        "\n",
        "    # Predecimos con el clasificador\n",
        "    y_pred_cls = clf.predict(X_test)\n",
        "\n",
        "    # Score del clasificador\n",
        "    print(f'Precisión del clasificador: {accuracy_score(y_test, y_pred_cls):.3f}')\n",
        "\n",
        "    return clf"
      ]
    },
    {
      "cell_type": "code",
      "execution_count": null,
      "metadata": {
        "colab": {
          "base_uri": "https://localhost:8080/"
        },
        "id": "eoqQdBSWmQfn",
        "outputId": "38224417-6513-43bb-8d9d-f61476357e00"
      },
      "outputs": [
        {
          "name": "stdout",
          "output_type": "stream",
          "text": [
            "Precisión del clasificador: 0.987\n"
          ]
        }
      ],
      "source": [
        "clf = votclass()"
      ]
    },
    {
      "cell_type": "code",
      "execution_count": null,
      "metadata": {
        "id": "8bITp7NxmQfo"
      },
      "outputs": [],
      "source": [
        "def votreg(data=data):\n",
        "    # Regresor\n",
        "    reg = VotingRegressor(estimators=[('lgb', reg_lgb), ('cat', reg_cat)], n_jobs=-1)\n",
        "\n",
        "    # Agrergamos las columnas de clasificación\n",
        "    data['lgb_class'] = clf_lgb.predict(data.drop(columns=['transactionRevenue']))\n",
        "    data['cat_class'] = clf_cat.predict(data.drop(columns=['transactionRevenue', 'lgb_class']))\n",
        "\n",
        "    X = data.drop(columns=['transactionRevenue'])\n",
        "    y = data['transactionRevenue']\n",
        "    X_train, X_test, y_train, y_test = train_test_split(X, y, test_size=0.25, random_state=42)\n",
        "\n",
        "    # Entrenamos el regresor\n",
        "    reg.fit(X_train, y_train)\n",
        "\n",
        "    # Predecimos con el regresor\n",
        "    y_pred_reg = reg.predict(X_test)\n",
        "\n",
        "    # Convertimos todas las predicciones menores a 0.01 en 0\n",
        "    y_pred_reg = np.where(y_pred_reg < 0.01, 0, y_pred_reg)\n",
        "\n",
        "    # Score del regresor para rmse\n",
        "    print(f'Raiz del error para el regresor: {np.sqrt(mean_squared_error(y_test, y_pred_reg)):.3f}')\n",
        "\n",
        "    return reg, y_pred_reg, np.sqrt(mean_squared_error(y_test, y_pred_reg)), r2_adj(X_test, y_test, y_pred_reg)\n"
      ]
    },
    {
      "cell_type": "code",
      "execution_count": null,
      "metadata": {
        "colab": {
          "base_uri": "https://localhost:8080/"
        },
        "id": "3WagM1-JmQfo",
        "outputId": "d466df3a-65d9-4793-a5f8-625c51b69f14"
      },
      "outputs": [
        {
          "name": "stdout",
          "output_type": "stream",
          "text": [
            "Raiz del error para el regresor: 18.523\n"
          ]
        }
      ],
      "source": [
        "reg, y_pred_reg, vot_rmse, vot_r2_adj = votreg()"
      ]
    },
    {
      "cell_type": "code",
      "execution_count": null,
      "metadata": {
        "colab": {
          "base_uri": "https://localhost:8080/"
        },
        "id": "3E5YZtBwmQfo",
        "outputId": "b1c5df7f-e7e3-4198-e665-237addddeb18"
      },
      "outputs": [
        {
          "name": "stdout",
          "output_type": "stream",
          "text": [
            "Resultados:\n",
            "Los hiperparámetros son: {'estimators': [('lgb', LGBMRegressor(bagging_fraction=0.64, bagging_freq=8, colsample_bytree=0.58,\n",
            "              feature_fraction=0.96, learning_rate=0.19, max_depth=6,\n",
            "              min_child_samples=77, min_child_weight=1, min_split_gain=0.12,\n",
            "              n_estimators=108, n_jobs=-1, num_leaves=216, random_state=42,\n",
            "              reg_alpha=0.16, reg_lambda=0.9, subsample=0.58, subsample_freq=1,\n",
            "              verbosity=-1)), ('cat', <catboost.core.CatBoostRegressor object at 0x7c0e1fae5f30>)], 'n_jobs': -1, 'verbose': False, 'weights': None, 'lgb': LGBMRegressor(bagging_fraction=0.64, bagging_freq=8, colsample_bytree=0.58,\n",
            "              feature_fraction=0.96, learning_rate=0.19, max_depth=6,\n",
            "              min_child_samples=77, min_child_weight=1, min_split_gain=0.12,\n",
            "              n_estimators=108, n_jobs=-1, num_leaves=216, random_state=42,\n",
            "              reg_alpha=0.16, reg_lambda=0.9, subsample=0.58, subsample_freq=1,\n",
            "              verbosity=-1), 'cat': <catboost.core.CatBoostRegressor object at 0x7c0e1fae5f30>, 'lgb__boosting_type': 'gbdt', 'lgb__class_weight': None, 'lgb__colsample_bytree': 0.58, 'lgb__importance_type': 'split', 'lgb__learning_rate': 0.19, 'lgb__max_depth': 6, 'lgb__min_child_samples': 77, 'lgb__min_child_weight': 1, 'lgb__min_split_gain': 0.12, 'lgb__n_estimators': 108, 'lgb__n_jobs': -1, 'lgb__num_leaves': 216, 'lgb__objective': None, 'lgb__random_state': 42, 'lgb__reg_alpha': 0.16, 'lgb__reg_lambda': 0.9, 'lgb__subsample': 0.58, 'lgb__subsample_for_bin': 200000, 'lgb__subsample_freq': 1, 'lgb__feature_fraction': 0.96, 'lgb__bagging_fraction': 0.64, 'lgb__bagging_freq': 8, 'lgb__verbosity': -1, 'cat__learning_rate': 0.03, 'cat__depth': 10, 'cat__l2_leaf_reg': 0.0, 'cat__loss_function': 'RMSE', 'cat__border_count': 105, 'cat__thread_count': 7, 'cat__verbose': 0, 'cat__max_ctr_complexity': 4, 'cat__random_strength': 0.68, 'cat__bagging_temperature': 0.26, 'cat__n_estimators': 680, 'cat__random_state': 42}\n",
            "El rmse es: 18.52\n",
            "El r2 es: 0.04\n"
          ]
        }
      ],
      "source": [
        "print('Resultados:')\n",
        "\n",
        "print(f'Los hiperparámetros son: {reg.get_params()}')\n",
        "print(f'El rmse es: {vot_rmse:.2f}')\n",
        "print(f'El r2 es: {vot_r2_adj:.2f}')"
      ]
    },
    {
      "cell_type": "code",
      "execution_count": null,
      "metadata": {
        "id": "_SLA05admQfo"
      },
      "outputs": [],
      "source": [
        "# # Guardamos el modelo Votación\n",
        "# dump(clf, 'clasificador.joblib')\n",
        "# dump(reg, 'regresor.joblib')"
      ]
    },
    {
      "cell_type": "markdown",
      "metadata": {
        "id": "YHe-i3m5mQfo"
      },
      "source": [
        "---"
      ]
    },
    {
      "cell_type": "markdown",
      "metadata": {
        "id": "NxnbPX4cmQfx"
      },
      "source": [
        "### Modelo de Deep Learning"
      ]
    },
    {
      "cell_type": "code",
      "execution_count": null,
      "metadata": {
        "id": "iahW0qSImQfx"
      },
      "outputs": [],
      "source": [
        "# Definir la función de pérdida del modelo\n",
        "loss_fn = tf.keras.losses.MeanSquaredError()\n",
        "\n",
        "# Definir la métrica del modelo\n",
        "metric_fn = tf.keras.metrics.RootMeanSquaredError()"
      ]
    },
    {
      "cell_type": "code",
      "execution_count": null,
      "metadata": {
        "id": "QQ8jlB_amQfx"
      },
      "outputs": [],
      "source": [
        "# Definir los callbacks (llamadas de vuelta) del modelo:\n",
        "# EarlyStopping hace que pare el entrenamiento si no mejora en 30 epochs,\n",
        "# ReduceLROnPlateau reduce la tasa de aprendizaje si no mejora en 3 epochs y\n",
        "# TerminateOnNaN termina el entrenamiento si hay un valor NaN\n",
        "callbacks_list = [\n",
        "    tf.keras.callbacks.EarlyStopping(monitor='val_loss', patience=30, verbose=2, mode='min', restore_best_weights=True),\n",
        "    tf.keras.callbacks.ReduceLROnPlateau(monitor='val_loss', factor=0.8, patience=3, min_lr=0.00001),\n",
        "    tf.keras.callbacks.TerminateOnNaN()\n",
        "]"
      ]
    },
    {
      "cell_type": "code",
      "execution_count": null,
      "metadata": {
        "id": "Y1rNhs9RmQfx"
      },
      "outputs": [],
      "source": [
        "data = df.copy()"
      ]
    },
    {
      "cell_type": "code",
      "execution_count": null,
      "metadata": {
        "id": "K9VySNQbmQfx"
      },
      "outputs": [],
      "source": [
        "X = data.drop(columns=['transactionRevenue'])\n",
        "X['class'] = clf_lgb.predict(X)\n",
        "y = data['transactionRevenue']\n",
        "X_train, X_test, y_train, y_test = train_test_split(X, y, test_size=0.2, random_state=42)"
      ]
    },
    {
      "cell_type": "code",
      "execution_count": null,
      "metadata": {
        "colab": {
          "base_uri": "https://localhost:8080/"
        },
        "id": "YtHuQIwnmQfx",
        "outputId": "5dae4b3d-9f12-4825-b2f8-bb0ff2121951"
      },
      "outputs": [
        {
          "name": "stdout",
          "output_type": "stream",
          "text": [
            "Epoch 1/100\n",
            "277/277 [==============================] - 2s 3ms/step - loss: 368.5630 - root_mean_squared_error: 19.1980 - val_loss: 687.3847 - val_root_mean_squared_error: 26.2180 - lr: 0.0100\n",
            "Epoch 2/100\n",
            "277/277 [==============================] - 1s 2ms/step - loss: 354.2314 - root_mean_squared_error: 18.8210 - val_loss: 663.8846 - val_root_mean_squared_error: 25.7660 - lr: 0.0100\n",
            "Epoch 3/100\n",
            "277/277 [==============================] - 1s 2ms/step - loss: 358.6231 - root_mean_squared_error: 18.9373 - val_loss: 649.8745 - val_root_mean_squared_error: 25.4926 - lr: 0.0100\n",
            "Epoch 4/100\n",
            "277/277 [==============================] - 1s 2ms/step - loss: 349.2917 - root_mean_squared_error: 18.6893 - val_loss: 625.8849 - val_root_mean_squared_error: 25.0177 - lr: 0.0100\n",
            "Epoch 5/100\n",
            "277/277 [==============================] - 1s 2ms/step - loss: 343.1779 - root_mean_squared_error: 18.5251 - val_loss: 662.0634 - val_root_mean_squared_error: 25.7306 - lr: 0.0100\n",
            "Epoch 6/100\n",
            "277/277 [==============================] - 1s 2ms/step - loss: 343.7027 - root_mean_squared_error: 18.5392 - val_loss: 583.7976 - val_root_mean_squared_error: 24.1619 - lr: 0.0100\n",
            "Epoch 7/100\n",
            "277/277 [==============================] - 1s 2ms/step - loss: 342.0703 - root_mean_squared_error: 18.4951 - val_loss: 572.2562 - val_root_mean_squared_error: 23.9219 - lr: 0.0100\n",
            "Epoch 8/100\n",
            "277/277 [==============================] - 1s 2ms/step - loss: 336.6629 - root_mean_squared_error: 18.3484 - val_loss: 645.0565 - val_root_mean_squared_error: 25.3980 - lr: 0.0100\n",
            "Epoch 9/100\n",
            "277/277 [==============================] - 1s 3ms/step - loss: 336.6799 - root_mean_squared_error: 18.3488 - val_loss: 614.6564 - val_root_mean_squared_error: 24.7923 - lr: 0.0100\n",
            "Epoch 10/100\n",
            "277/277 [==============================] - 1s 4ms/step - loss: 338.6863 - root_mean_squared_error: 18.4034 - val_loss: 650.1622 - val_root_mean_squared_error: 25.4983 - lr: 0.0100\n",
            "Epoch 11/100\n",
            "277/277 [==============================] - 1s 3ms/step - loss: 328.3297 - root_mean_squared_error: 18.1199 - val_loss: 653.6130 - val_root_mean_squared_error: 25.5659 - lr: 0.0080\n",
            "Epoch 12/100\n",
            "277/277 [==============================] - 1s 2ms/step - loss: 335.1727 - root_mean_squared_error: 18.3077 - val_loss: 597.6880 - val_root_mean_squared_error: 24.4477 - lr: 0.0080\n",
            "Epoch 13/100\n",
            "277/277 [==============================] - 1s 2ms/step - loss: 310.5830 - root_mean_squared_error: 17.6234 - val_loss: 637.2714 - val_root_mean_squared_error: 25.2442 - lr: 0.0080\n",
            "Epoch 14/100\n",
            "277/277 [==============================] - 1s 2ms/step - loss: 304.0067 - root_mean_squared_error: 17.4358 - val_loss: 689.3423 - val_root_mean_squared_error: 26.2553 - lr: 0.0064\n",
            "Epoch 15/100\n",
            "277/277 [==============================] - 1s 2ms/step - loss: 298.8356 - root_mean_squared_error: 17.2869 - val_loss: 799.3221 - val_root_mean_squared_error: 28.2723 - lr: 0.0064\n",
            "Epoch 16/100\n",
            "277/277 [==============================] - 1s 2ms/step - loss: 283.8928 - root_mean_squared_error: 16.8491 - val_loss: 742.0937 - val_root_mean_squared_error: 27.2414 - lr: 0.0064\n",
            "Epoch 17/100\n",
            "277/277 [==============================] - 1s 2ms/step - loss: 288.2767 - root_mean_squared_error: 16.9787 - val_loss: 706.5355 - val_root_mean_squared_error: 26.5807 - lr: 0.0051\n",
            "Epoch 18/100\n",
            "277/277 [==============================] - 1s 2ms/step - loss: 265.2119 - root_mean_squared_error: 16.2853 - val_loss: 808.6875 - val_root_mean_squared_error: 28.4374 - lr: 0.0051\n",
            "Epoch 19/100\n",
            "277/277 [==============================] - 1s 3ms/step - loss: 270.5414 - root_mean_squared_error: 16.4481 - val_loss: 700.6793 - val_root_mean_squared_error: 26.4703 - lr: 0.0051\n",
            "Epoch 20/100\n",
            "277/277 [==============================] - 1s 2ms/step - loss: 290.7302 - root_mean_squared_error: 17.0508 - val_loss: 714.8963 - val_root_mean_squared_error: 26.7375 - lr: 0.0041\n",
            "Epoch 21/100\n",
            "277/277 [==============================] - 1s 2ms/step - loss: 267.1208 - root_mean_squared_error: 16.3438 - val_loss: 748.3120 - val_root_mean_squared_error: 27.3553 - lr: 0.0041\n",
            "Epoch 22/100\n",
            "277/277 [==============================] - 1s 2ms/step - loss: 269.0856 - root_mean_squared_error: 16.4038 - val_loss: 797.6474 - val_root_mean_squared_error: 28.2427 - lr: 0.0041\n",
            "Epoch 23/100\n",
            "277/277 [==============================] - 1s 2ms/step - loss: 219.8380 - root_mean_squared_error: 14.8269 - val_loss: 813.6835 - val_root_mean_squared_error: 28.5251 - lr: 0.0033\n",
            "Epoch 24/100\n",
            "277/277 [==============================] - 1s 2ms/step - loss: 225.7146 - root_mean_squared_error: 15.0238 - val_loss: 896.1431 - val_root_mean_squared_error: 29.9356 - lr: 0.0033\n",
            "Epoch 25/100\n",
            "277/277 [==============================] - 1s 2ms/step - loss: 192.4613 - root_mean_squared_error: 13.8730 - val_loss: 827.5342 - val_root_mean_squared_error: 28.7669 - lr: 0.0033\n",
            "Epoch 26/100\n",
            "277/277 [==============================] - 1s 2ms/step - loss: 228.1531 - root_mean_squared_error: 15.1047 - val_loss: 811.1043 - val_root_mean_squared_error: 28.4799 - lr: 0.0026\n",
            "Epoch 27/100\n",
            "277/277 [==============================] - 1s 3ms/step - loss: 205.3099 - root_mean_squared_error: 14.3286 - val_loss: 786.1640 - val_root_mean_squared_error: 28.0386 - lr: 0.0026\n",
            "Epoch 28/100\n",
            "277/277 [==============================] - 1s 4ms/step - loss: 227.0588 - root_mean_squared_error: 15.0685 - val_loss: 799.1312 - val_root_mean_squared_error: 28.2689 - lr: 0.0026\n",
            "Epoch 29/100\n",
            "277/277 [==============================] - 1s 4ms/step - loss: 217.8562 - root_mean_squared_error: 14.7600 - val_loss: 785.7337 - val_root_mean_squared_error: 28.0309 - lr: 0.0021\n",
            "Epoch 30/100\n",
            "277/277 [==============================] - 1s 2ms/step - loss: 220.9220 - root_mean_squared_error: 14.8634 - val_loss: 798.6712 - val_root_mean_squared_error: 28.2608 - lr: 0.0021\n",
            "Epoch 31/100\n",
            "277/277 [==============================] - 1s 2ms/step - loss: 217.8358 - root_mean_squared_error: 14.7593 - val_loss: 804.7841 - val_root_mean_squared_error: 28.3687 - lr: 0.0021\n",
            "Epoch 32/100\n",
            "277/277 [==============================] - 1s 2ms/step - loss: 226.1825 - root_mean_squared_error: 15.0394 - val_loss: 812.3815 - val_root_mean_squared_error: 28.5023 - lr: 0.0017\n",
            "Epoch 33/100\n",
            "277/277 [==============================] - 1s 2ms/step - loss: 189.5513 - root_mean_squared_error: 13.7678 - val_loss: 751.2055 - val_root_mean_squared_error: 27.4081 - lr: 0.0017\n",
            "Epoch 34/100\n",
            "277/277 [==============================] - 1s 2ms/step - loss: 226.6417 - root_mean_squared_error: 15.0546 - val_loss: 772.6485 - val_root_mean_squared_error: 27.7966 - lr: 0.0017\n",
            "Epoch 35/100\n",
            "277/277 [==============================] - 1s 2ms/step - loss: 206.6077 - root_mean_squared_error: 14.3739 - val_loss: 757.6533 - val_root_mean_squared_error: 27.5255 - lr: 0.0013\n",
            "Epoch 36/100\n",
            "277/277 [==============================] - 1s 3ms/step - loss: 195.9126 - root_mean_squared_error: 13.9969 - val_loss: 771.0288 - val_root_mean_squared_error: 27.7674 - lr: 0.0013\n",
            "Epoch 37/100\n",
            "260/277 [===========================>..] - ETA: 0s - loss: 212.9884 - root_mean_squared_error: 14.5941Restoring model weights from the end of the best epoch: 7.\n",
            "277/277 [==============================] - 1s 3ms/step - loss: 216.2381 - root_mean_squared_error: 14.7050 - val_loss: 770.8441 - val_root_mean_squared_error: 27.7641 - lr: 0.0013\n",
            "Epoch 37: early stopping\n"
          ]
        },
        {
          "data": {
            "text/plain": [
              "<keras.src.callbacks.History at 0x7c0e1fb31bd0>"
            ]
          },
          "execution_count": 138,
          "metadata": {},
          "output_type": "execute_result"
        }
      ],
      "source": [
        "def create_model():\n",
        "    model = tf.keras.Sequential([\n",
        "        tf.keras.layers.BatchNormalization(momentum=0.99, epsilon=0.00001, input_shape=(len(X_train.columns), )),\n",
        "        tf.keras.layers.Dense(len(X_train.columns), activation='relu'),\n",
        "        tf.keras.layers.Dense(int(len(X_train.columns)/4), activation='relu'),\n",
        "        tf.keras.layers.Dense(1)\n",
        "    ])\n",
        "\n",
        "    model.compile(optimizer=tf.keras.optimizers.Adam(0.01, beta_1=0.5, beta_2=0.999, epsilon=1e-07),\n",
        "                  loss=loss_fn,\n",
        "                  metrics=[metric_fn])\n",
        "\n",
        "    return model\n",
        "\n",
        "model = create_model()\n",
        "\n",
        "model.fit(X_train.astype('float32'), y_train.astype('float32'),\n",
        "            epochs=100,\n",
        "            class_weight=clf_lgb.class_weight,\n",
        "            callbacks=callbacks_list,\n",
        "            validation_split=0.1)"
      ]
    },
    {
      "cell_type": "code",
      "execution_count": null,
      "metadata": {
        "colab": {
          "base_uri": "https://localhost:8080/"
        },
        "id": "z8-QZLjGs3dn",
        "outputId": "163c50ea-79a0-4ee9-8ea8-028dfbfc933b"
      },
      "outputs": [
        {
          "name": "stdout",
          "output_type": "stream",
          "text": [
            "77/77 [==============================] - 0s 2ms/step\n"
          ]
        }
      ],
      "source": [
        "y_pred_reg_tf = model.predict(X_test.astype('float32'))\n",
        "\n",
        "# Convertimos todas las predicciones menores a 0.01 en 0\n",
        "y_pred_reg_tf = np.where(y_pred_reg_tf < 0.01, 0, y_pred_reg_tf)\n",
        "\n",
        "# Calculamos las metricas\n",
        "r2_tf = r2_score(y_test, y_pred_reg_tf)\n",
        "r2_tf_adj = r2_adj(X_test, y_test, y_pred_reg_tf)\n",
        "tf_rmse = np.sqrt(mean_squared_error(y_test, y_pred_reg_tf))"
      ]
    },
    {
      "cell_type": "code",
      "execution_count": null,
      "metadata": {
        "colab": {
          "base_uri": "https://localhost:8080/"
        },
        "id": "PqQouA0w0Wd4",
        "outputId": "cffaa7b4-bc42-4281-fcdf-407ebec6b49f"
      },
      "outputs": [
        {
          "name": "stdout",
          "output_type": "stream",
          "text": [
            "Test Data R2 adjusted: 0.06\n"
          ]
        }
      ],
      "source": [
        "print(f'Test Data R2 adjusted: {r2_tf:.2f}')"
      ]
    },
    {
      "cell_type": "code",
      "execution_count": null,
      "metadata": {
        "colab": {
          "base_uri": "https://localhost:8080/"
        },
        "id": "Q115oYNOmQfy",
        "outputId": "667729eb-83cc-4e73-d07e-ed00908b8869"
      },
      "outputs": [
        {
          "name": "stdout",
          "output_type": "stream",
          "text": [
            "Test Data R2 adjusted: 0.05\n"
          ]
        }
      ],
      "source": [
        "print(f'Test Data R2 adjusted: {r2_tf_adj:.2f}')"
      ]
    },
    {
      "cell_type": "code",
      "execution_count": null,
      "metadata": {
        "colab": {
          "base_uri": "https://localhost:8080/"
        },
        "id": "MhePLCblmQfy",
        "outputId": "584691d2-c1f0-460f-b7e1-5cb0626580d5"
      },
      "outputs": [
        {
          "name": "stdout",
          "output_type": "stream",
          "text": [
            "Test Data RMSE: 20.04\n"
          ]
        }
      ],
      "source": [
        "print(f'Test Data RMSE: {tf_rmse:.2f}')"
      ]
    },
    {
      "cell_type": "markdown",
      "metadata": {
        "id": "JuXJVtjbmQfy"
      },
      "source": [
        "Dataframe de Realidad vs Predicciones"
      ]
    },
    {
      "cell_type": "code",
      "execution_count": null,
      "metadata": {
        "colab": {
          "base_uri": "https://localhost:8080/",
          "height": 423
        },
        "id": "h6dk14g1mQfy",
        "outputId": "3663c145-ee03-41c0-eef2-719310e16d43"
      },
      "outputs": [
        {
          "data": {
            "application/vnd.google.colaboratory.intrinsic+json": {
              "summary": "{\n  \"name\": \"pd\",\n  \"rows\": 2457,\n  \"fields\": [\n    {\n      \"column\": \"Real\",\n      \"properties\": {\n        \"dtype\": \"number\",\n        \"std\": 20.726117168084095,\n        \"min\": 0.0,\n        \"max\": 702.9,\n        \"num_unique_values\": 32,\n        \"samples\": [\n          69.99,\n          67.18,\n          38.38\n        ],\n        \"semantic_type\": \"\",\n        \"description\": \"\"\n      }\n    },\n    {\n      \"column\": \"Prediccion\",\n      \"properties\": {\n        \"dtype\": \"float32\",\n        \"num_unique_values\": 109,\n        \"samples\": [\n          2.7264974117279053,\n          3.983574628829956,\n          94.08940124511719\n        ],\n        \"semantic_type\": \"\",\n        \"description\": \"\"\n      }\n    }\n  ]\n}",
              "type": "dataframe"
            },
            "text/html": [
              "\n",
              "  <div id=\"df-3912f1d1-11fe-4cf5-bb0c-f159a1769c83\" class=\"colab-df-container\">\n",
              "    <div>\n",
              "<style scoped>\n",
              "    .dataframe tbody tr th:only-of-type {\n",
              "        vertical-align: middle;\n",
              "    }\n",
              "\n",
              "    .dataframe tbody tr th {\n",
              "        vertical-align: top;\n",
              "    }\n",
              "\n",
              "    .dataframe thead th {\n",
              "        text-align: right;\n",
              "    }\n",
              "</style>\n",
              "<table border=\"1\" class=\"dataframe\">\n",
              "  <thead>\n",
              "    <tr style=\"text-align: right;\">\n",
              "      <th></th>\n",
              "      <th>Real</th>\n",
              "      <th>Prediccion</th>\n",
              "    </tr>\n",
              "  </thead>\n",
              "  <tbody>\n",
              "    <tr>\n",
              "      <th>1722</th>\n",
              "      <td>0.0</td>\n",
              "      <td>0.292355</td>\n",
              "    </tr>\n",
              "    <tr>\n",
              "      <th>8730</th>\n",
              "      <td>0.0</td>\n",
              "      <td>0.292355</td>\n",
              "    </tr>\n",
              "    <tr>\n",
              "      <th>10207</th>\n",
              "      <td>0.0</td>\n",
              "      <td>0.292355</td>\n",
              "    </tr>\n",
              "    <tr>\n",
              "      <th>4367</th>\n",
              "      <td>0.0</td>\n",
              "      <td>2.229689</td>\n",
              "    </tr>\n",
              "    <tr>\n",
              "      <th>3098</th>\n",
              "      <td>0.0</td>\n",
              "      <td>0.292355</td>\n",
              "    </tr>\n",
              "    <tr>\n",
              "      <th>...</th>\n",
              "      <td>...</td>\n",
              "      <td>...</td>\n",
              "    </tr>\n",
              "    <tr>\n",
              "      <th>12029</th>\n",
              "      <td>0.0</td>\n",
              "      <td>0.292355</td>\n",
              "    </tr>\n",
              "    <tr>\n",
              "      <th>4246</th>\n",
              "      <td>0.0</td>\n",
              "      <td>0.292355</td>\n",
              "    </tr>\n",
              "    <tr>\n",
              "      <th>5478</th>\n",
              "      <td>0.0</td>\n",
              "      <td>0.292355</td>\n",
              "    </tr>\n",
              "    <tr>\n",
              "      <th>5871</th>\n",
              "      <td>0.0</td>\n",
              "      <td>0.292355</td>\n",
              "    </tr>\n",
              "    <tr>\n",
              "      <th>4601</th>\n",
              "      <td>0.0</td>\n",
              "      <td>0.292355</td>\n",
              "    </tr>\n",
              "  </tbody>\n",
              "</table>\n",
              "<p>2457 rows × 2 columns</p>\n",
              "</div>\n",
              "    <div class=\"colab-df-buttons\">\n",
              "\n",
              "  <div class=\"colab-df-container\">\n",
              "    <button class=\"colab-df-convert\" onclick=\"convertToInteractive('df-3912f1d1-11fe-4cf5-bb0c-f159a1769c83')\"\n",
              "            title=\"Convert this dataframe to an interactive table.\"\n",
              "            style=\"display:none;\">\n",
              "\n",
              "  <svg xmlns=\"http://www.w3.org/2000/svg\" height=\"24px\" viewBox=\"0 -960 960 960\">\n",
              "    <path d=\"M120-120v-720h720v720H120Zm60-500h600v-160H180v160Zm220 220h160v-160H400v160Zm0 220h160v-160H400v160ZM180-400h160v-160H180v160Zm440 0h160v-160H620v160ZM180-180h160v-160H180v160Zm440 0h160v-160H620v160Z\"/>\n",
              "  </svg>\n",
              "    </button>\n",
              "\n",
              "  <style>\n",
              "    .colab-df-container {\n",
              "      display:flex;\n",
              "      gap: 12px;\n",
              "    }\n",
              "\n",
              "    .colab-df-convert {\n",
              "      background-color: #E8F0FE;\n",
              "      border: none;\n",
              "      border-radius: 50%;\n",
              "      cursor: pointer;\n",
              "      display: none;\n",
              "      fill: #1967D2;\n",
              "      height: 32px;\n",
              "      padding: 0 0 0 0;\n",
              "      width: 32px;\n",
              "    }\n",
              "\n",
              "    .colab-df-convert:hover {\n",
              "      background-color: #E2EBFA;\n",
              "      box-shadow: 0px 1px 2px rgba(60, 64, 67, 0.3), 0px 1px 3px 1px rgba(60, 64, 67, 0.15);\n",
              "      fill: #174EA6;\n",
              "    }\n",
              "\n",
              "    .colab-df-buttons div {\n",
              "      margin-bottom: 4px;\n",
              "    }\n",
              "\n",
              "    [theme=dark] .colab-df-convert {\n",
              "      background-color: #3B4455;\n",
              "      fill: #D2E3FC;\n",
              "    }\n",
              "\n",
              "    [theme=dark] .colab-df-convert:hover {\n",
              "      background-color: #434B5C;\n",
              "      box-shadow: 0px 1px 3px 1px rgba(0, 0, 0, 0.15);\n",
              "      filter: drop-shadow(0px 1px 2px rgba(0, 0, 0, 0.3));\n",
              "      fill: #FFFFFF;\n",
              "    }\n",
              "  </style>\n",
              "\n",
              "    <script>\n",
              "      const buttonEl =\n",
              "        document.querySelector('#df-3912f1d1-11fe-4cf5-bb0c-f159a1769c83 button.colab-df-convert');\n",
              "      buttonEl.style.display =\n",
              "        google.colab.kernel.accessAllowed ? 'block' : 'none';\n",
              "\n",
              "      async function convertToInteractive(key) {\n",
              "        const element = document.querySelector('#df-3912f1d1-11fe-4cf5-bb0c-f159a1769c83');\n",
              "        const dataTable =\n",
              "          await google.colab.kernel.invokeFunction('convertToInteractive',\n",
              "                                                    [key], {});\n",
              "        if (!dataTable) return;\n",
              "\n",
              "        const docLinkHtml = 'Like what you see? Visit the ' +\n",
              "          '<a target=\"_blank\" href=https://colab.research.google.com/notebooks/data_table.ipynb>data table notebook</a>'\n",
              "          + ' to learn more about interactive tables.';\n",
              "        element.innerHTML = '';\n",
              "        dataTable['output_type'] = 'display_data';\n",
              "        await google.colab.output.renderOutput(dataTable, element);\n",
              "        const docLink = document.createElement('div');\n",
              "        docLink.innerHTML = docLinkHtml;\n",
              "        element.appendChild(docLink);\n",
              "      }\n",
              "    </script>\n",
              "  </div>\n",
              "\n",
              "\n",
              "<div id=\"df-2a9839df-75a0-4627-9ada-2eba86e4a76e\">\n",
              "  <button class=\"colab-df-quickchart\" onclick=\"quickchart('df-2a9839df-75a0-4627-9ada-2eba86e4a76e')\"\n",
              "            title=\"Suggest charts\"\n",
              "            style=\"display:none;\">\n",
              "\n",
              "<svg xmlns=\"http://www.w3.org/2000/svg\" height=\"24px\"viewBox=\"0 0 24 24\"\n",
              "     width=\"24px\">\n",
              "    <g>\n",
              "        <path d=\"M19 3H5c-1.1 0-2 .9-2 2v14c0 1.1.9 2 2 2h14c1.1 0 2-.9 2-2V5c0-1.1-.9-2-2-2zM9 17H7v-7h2v7zm4 0h-2V7h2v10zm4 0h-2v-4h2v4z\"/>\n",
              "    </g>\n",
              "</svg>\n",
              "  </button>\n",
              "\n",
              "<style>\n",
              "  .colab-df-quickchart {\n",
              "      --bg-color: #E8F0FE;\n",
              "      --fill-color: #1967D2;\n",
              "      --hover-bg-color: #E2EBFA;\n",
              "      --hover-fill-color: #174EA6;\n",
              "      --disabled-fill-color: #AAA;\n",
              "      --disabled-bg-color: #DDD;\n",
              "  }\n",
              "\n",
              "  [theme=dark] .colab-df-quickchart {\n",
              "      --bg-color: #3B4455;\n",
              "      --fill-color: #D2E3FC;\n",
              "      --hover-bg-color: #434B5C;\n",
              "      --hover-fill-color: #FFFFFF;\n",
              "      --disabled-bg-color: #3B4455;\n",
              "      --disabled-fill-color: #666;\n",
              "  }\n",
              "\n",
              "  .colab-df-quickchart {\n",
              "    background-color: var(--bg-color);\n",
              "    border: none;\n",
              "    border-radius: 50%;\n",
              "    cursor: pointer;\n",
              "    display: none;\n",
              "    fill: var(--fill-color);\n",
              "    height: 32px;\n",
              "    padding: 0;\n",
              "    width: 32px;\n",
              "  }\n",
              "\n",
              "  .colab-df-quickchart:hover {\n",
              "    background-color: var(--hover-bg-color);\n",
              "    box-shadow: 0 1px 2px rgba(60, 64, 67, 0.3), 0 1px 3px 1px rgba(60, 64, 67, 0.15);\n",
              "    fill: var(--button-hover-fill-color);\n",
              "  }\n",
              "\n",
              "  .colab-df-quickchart-complete:disabled,\n",
              "  .colab-df-quickchart-complete:disabled:hover {\n",
              "    background-color: var(--disabled-bg-color);\n",
              "    fill: var(--disabled-fill-color);\n",
              "    box-shadow: none;\n",
              "  }\n",
              "\n",
              "  .colab-df-spinner {\n",
              "    border: 2px solid var(--fill-color);\n",
              "    border-color: transparent;\n",
              "    border-bottom-color: var(--fill-color);\n",
              "    animation:\n",
              "      spin 1s steps(1) infinite;\n",
              "  }\n",
              "\n",
              "  @keyframes spin {\n",
              "    0% {\n",
              "      border-color: transparent;\n",
              "      border-bottom-color: var(--fill-color);\n",
              "      border-left-color: var(--fill-color);\n",
              "    }\n",
              "    20% {\n",
              "      border-color: transparent;\n",
              "      border-left-color: var(--fill-color);\n",
              "      border-top-color: var(--fill-color);\n",
              "    }\n",
              "    30% {\n",
              "      border-color: transparent;\n",
              "      border-left-color: var(--fill-color);\n",
              "      border-top-color: var(--fill-color);\n",
              "      border-right-color: var(--fill-color);\n",
              "    }\n",
              "    40% {\n",
              "      border-color: transparent;\n",
              "      border-right-color: var(--fill-color);\n",
              "      border-top-color: var(--fill-color);\n",
              "    }\n",
              "    60% {\n",
              "      border-color: transparent;\n",
              "      border-right-color: var(--fill-color);\n",
              "    }\n",
              "    80% {\n",
              "      border-color: transparent;\n",
              "      border-right-color: var(--fill-color);\n",
              "      border-bottom-color: var(--fill-color);\n",
              "    }\n",
              "    90% {\n",
              "      border-color: transparent;\n",
              "      border-bottom-color: var(--fill-color);\n",
              "    }\n",
              "  }\n",
              "</style>\n",
              "\n",
              "  <script>\n",
              "    async function quickchart(key) {\n",
              "      const quickchartButtonEl =\n",
              "        document.querySelector('#' + key + ' button');\n",
              "      quickchartButtonEl.disabled = true;  // To prevent multiple clicks.\n",
              "      quickchartButtonEl.classList.add('colab-df-spinner');\n",
              "      try {\n",
              "        const charts = await google.colab.kernel.invokeFunction(\n",
              "            'suggestCharts', [key], {});\n",
              "      } catch (error) {\n",
              "        console.error('Error during call to suggestCharts:', error);\n",
              "      }\n",
              "      quickchartButtonEl.classList.remove('colab-df-spinner');\n",
              "      quickchartButtonEl.classList.add('colab-df-quickchart-complete');\n",
              "    }\n",
              "    (() => {\n",
              "      let quickchartButtonEl =\n",
              "        document.querySelector('#df-2a9839df-75a0-4627-9ada-2eba86e4a76e button');\n",
              "      quickchartButtonEl.style.display =\n",
              "        google.colab.kernel.accessAllowed ? 'block' : 'none';\n",
              "    })();\n",
              "  </script>\n",
              "</div>\n",
              "\n",
              "    </div>\n",
              "  </div>\n"
            ],
            "text/plain": [
              "       Real  Prediccion\n",
              "1722    0.0    0.292355\n",
              "8730    0.0    0.292355\n",
              "10207   0.0    0.292355\n",
              "4367    0.0    2.229689\n",
              "3098    0.0    0.292355\n",
              "...     ...         ...\n",
              "12029   0.0    0.292355\n",
              "4246    0.0    0.292355\n",
              "5478    0.0    0.292355\n",
              "5871    0.0    0.292355\n",
              "4601    0.0    0.292355\n",
              "\n",
              "[2457 rows x 2 columns]"
            ]
          },
          "execution_count": 143,
          "metadata": {},
          "output_type": "execute_result"
        }
      ],
      "source": [
        "pd.DataFrame({'Real': y_test, 'Prediccion': y_pred_reg_tf.reshape(-1,)})"
      ]
    },
    {
      "cell_type": "code",
      "execution_count": null,
      "metadata": {
        "id": "XARvPLqn4gMP"
      },
      "outputs": [],
      "source": [
        "# # Guardamos el modelo TF\n",
        "# model.save('model_tf.h5', save_format='h5')\n",
        "\n",
        "# # Cargar el modelo\n",
        "# model = tf.keras.models.load_model('model_tf.h5')"
      ]
    },
    {
      "cell_type": "markdown",
      "metadata": {
        "id": "7y5Llo_mx9Cz"
      },
      "source": [
        "## **5. Evaluación y Selección del Modelo**"
      ]
    },
    {
      "cell_type": "code",
      "execution_count": null,
      "metadata": {
        "id": "kJQJRSb3mQfo"
      },
      "outputs": [],
      "source": [
        "data = df.copy()"
      ]
    },
    {
      "cell_type": "code",
      "execution_count": null,
      "metadata": {
        "id": "ddj73pkfmQfp"
      },
      "outputs": [],
      "source": [
        "X = data.drop(columns=['transactionRevenue'])\n",
        "y = data['transactionRevenue']\n",
        "X_train, X_test, y_train, y_test = train_test_split(X, y, test_size=0.25, random_state=42)"
      ]
    },
    {
      "cell_type": "code",
      "execution_count": null,
      "metadata": {
        "colab": {
          "base_uri": "https://localhost:8080/"
        },
        "id": "cdSAazbmmQfp",
        "outputId": "915a05ab-0d8c-407f-c1bd-562b90741ead"
      },
      "outputs": [
        {
          "name": "stdout",
          "output_type": "stream",
          "text": [
            "La raiz del error cuadrático para la media: 20.893\n"
          ]
        }
      ],
      "source": [
        "# Calcular la media\n",
        "mean_value = df['transactionRevenue'].mean()\n",
        "\n",
        "# Crear un array con la media repetida para cada observación\n",
        "mean_array = np.full(shape=df['transactionRevenue'].shape, fill_value=mean_value)\n",
        "\n",
        "# Calcular el MSE\n",
        "mse = mean_squared_error(df['transactionRevenue'], mean_array)\n",
        "\n",
        "print(f'La raiz del error cuadrático para la media: {np.sqrt(mse):.3f}')"
      ]
    },
    {
      "cell_type": "code",
      "execution_count": null,
      "metadata": {
        "colab": {
          "base_uri": "https://localhost:8080/",
          "height": 565
        },
        "id": "KSOXe9wamQfp",
        "outputId": "8d74dea4-99ad-4380-fb90-146d7b37d6ee"
      },
      "outputs": [
        {
          "data": {
            "image/png": "[encoded data removed]",
            "text/plain": [
              "<Figure size 1000x600 with 1 Axes>"
            ]
          },
          "metadata": {},
          "output_type": "display_data"
        }
      ],
      "source": [
        "# Comparar modelos de Regresion con el rmse gráficamente mediante barras\n",
        "rmse = [lgb_rmse, cat_rmse, vot_rmse, tf_rmse]\n",
        "modelos = ['LGB', 'CAT', 'Votación', 'Tensorflow']\n",
        "plt.figure(figsize=(10, 6))\n",
        "bars = plt.bar(modelos, rmse, color=['green', 'blue', 'red', 'orange'])\n",
        "plt.title('Comparación de Modelos de Regresión')\n",
        "plt.xlabel('Modelo')\n",
        "plt.ylabel('Raiz del Error')\n",
        "\n",
        "# Añadir el valor de cada barra en la gráfica\n",
        "for bar in bars:\n",
        "    yval = bar.get_height()\n",
        "    plt.text(bar.get_x() + bar.get_width()/2, yval, round(yval, 2), va='bottom')  # va: vertical alignment\n",
        "\n",
        "# La mejor metrica del bootcamp\n",
        "plt.axhline(y=13.78, color='r', linestyle='--')\n",
        "\n",
        "plt.show()"
      ]
    },
    {
      "cell_type": "code",
      "execution_count": null,
      "metadata": {
        "colab": {
          "base_uri": "https://localhost:8080/",
          "height": 565
        },
        "id": "nIWE72WUmQfp",
        "outputId": "8c5d208f-dc1e-42e5-9625-c9f8e8f3ffe4"
      },
      "outputs": [
        {
          "data": {
            "image/png": "[encoded data removed]",
            "text/plain": [
              "<Figure size 1000x600 with 1 Axes>"
            ]
          },
          "metadata": {},
          "output_type": "display_data"
        }
      ],
      "source": [
        "# Comparar modelos de Regresion con el r2 gráficamente mediante barras\n",
        "rmse = [lgb_r2_adj, cat_r2_adj, vot_r2_adj, r2_tf_adj]\n",
        "modelos = ['LGB', 'CAT', 'Votación', 'Tensorflow']\n",
        "plt.figure(figsize=(10, 6))\n",
        "bars = plt.bar(modelos, rmse, color=['green', 'blue', 'red', 'orange'])\n",
        "plt.title('Comparación de Modelos de Regresión')\n",
        "plt.xlabel('Modelo')\n",
        "plt.ylabel('Raiz del Error')\n",
        "\n",
        "# Añadir el valor de cada barra en la gráfica\n",
        "for bar in bars:\n",
        "    yval = bar.get_height()\n",
        "    plt.text(bar.get_x() + bar.get_width()/2, yval, round(yval, 2), va='bottom')  # va: vertical alignment\n",
        "\n",
        "# La mejor metrica del bootcamp\n",
        "plt.axhline(y=0.54, color='r', linestyle='--')\n",
        "\n",
        "plt.show()"
      ]
    },
    {
      "cell_type": "markdown",
      "metadata": {
        "id": "DV85OSI3mQfx"
      },
      "source": [
        "---\n",
        "---"
      ]
    }
  ],
  "metadata": {
    "colab": {
      "provenance": []
    },
    "kernelspec": {
      "display_name": "Python 3 (ipykernel)",
      "language": "python",
      "name": "python3"
    },
    "language_info": {
      "codemirror_mode": {
        "name": "ipython",
        "version": 3
      },
      "file_extension": ".py",
      "mimetype": "text/x-python",
      "name": "python",
      "nbconvert_exporter": "python",
      "pygments_lexer": "ipython3",
      "version": "3.11.5"
    }
  },
  "nbformat": 4,
  "nbformat_minor": 0
}
